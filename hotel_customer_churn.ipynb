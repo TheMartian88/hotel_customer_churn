{
 "cells": [
  {
   "cell_type": "markdown",
   "id": "447a334c",
   "metadata": {
    "tags": []
   },
   "source": [
    "# Прогнозирование оттока клиентов в сети отелей «Как в гостях» <a id=\"intro\"></a>"
   ]
  },
  {
   "cell_type": "markdown",
   "id": "c90c546d",
   "metadata": {
    "toc": true
   },
   "source": [
    "<h1>Содержание<span class=\"tocSkip\"></span></h1>\n",
    "<div class=\"toc\"><ul class=\"toc-item\"><li><span><a href=\"#Описание\" data-toc-modified-id=\"Описание-1\"><span class=\"toc-item-num\">1&nbsp;&nbsp;</span>Описание</a></span></li><li><span><a href=\"#Загрузка-и-подготовка-данных\" data-toc-modified-id=\"Загрузка-и-подготовка-данных-2\"><span class=\"toc-item-num\">2&nbsp;&nbsp;</span>Загрузка и подготовка данных</a></span></li><li><span><a href=\"#Предобработка-и-исследовательский-анализ-данных\" data-toc-modified-id=\"Предобработка-и-исследовательский-анализ-данных-3\"><span class=\"toc-item-num\">3&nbsp;&nbsp;</span>Предобработка и исследовательский анализ данных</a></span></li><li><span><a href=\"#Формулировка-ML-задачи-на-основе-бизнес-задачи\" data-toc-modified-id=\"Формулировка-ML-задачи-на-основе-бизнес-задачи-4\"><span class=\"toc-item-num\">4&nbsp;&nbsp;</span>Формулировка ML-задачи на основе бизнес-задачи</a></span></li><li><span><a href=\"#Разработка-модели-ML\" data-toc-modified-id=\"Разработка-модели-ML-5\"><span class=\"toc-item-num\">5&nbsp;&nbsp;</span>Разработка модели ML</a></span></li><li><span><a href=\"#Портрет-«ненадёжного»-клиента\" data-toc-modified-id=\"Портрет-«ненадёжного»-клиента-6\"><span class=\"toc-item-num\">6&nbsp;&nbsp;</span>Портрет «ненадёжного» клиента</a></span></li><li><span><a href=\"#Общие-выводы\" data-toc-modified-id=\"Общие-выводы-7\"><span class=\"toc-item-num\">7&nbsp;&nbsp;</span>Общие выводы</a></span></li></ul></div>"
   ]
  },
  {
   "cell_type": "markdown",
   "id": "92f13b16-113b-47f1-bf43-e1f9d8592a5d",
   "metadata": {},
   "source": [
    "## Описание"
   ]
  },
  {
   "cell_type": "markdown",
   "id": "7c797607-cdfb-4064-b245-94f79a151165",
   "metadata": {},
   "source": [
    "Заказчик исследования — сеть отелей «Как в гостях».\n",
    "\n",
    "Чтобы привлечь клиентов, сеть отелей добавила на свой сайт возможность забронировать номер без предоплаты. Однако если клиент отменял бронирование, то компания терпела убытки. Сотрудники отеля могли, например, закупить продукты к приезду гостя или просто не успеть найти другого клиента.\n",
    "\n",
    "Для решения проблемы требуется разработать систему, которая предсказывает отказ от брони. Если модель покажет, что бронь будет отменена, то клиенту предлагается внести депозит. Размер депозита — 80% от стоимости номера за одни сутки и затрат на разовую уборку. Деньги будут списаны со счёта клиента, если он всё же отменит бронь.\n",
    "\n",
    "**Бизнес-метрика и входная информация**\n",
    "\n",
    "Основная бизнес-метрика отели — прибыль. Прибыль отеля — это разница между стоимостью номера за все ночи и затраты на обслуживание: как при подготовке номера, так и при проживании постояльца.\n",
    "\n",
    "В отеле есть несколько типов номеров. В зависимости от типа номера назначается стоимость за одну ночь. Есть также затраты на уборку. Если клиент снял номер надолго, то убираются каждые два дня.\n",
    "\n",
    "Стоимость номеров отеля:\\\n",
    "категория A: за ночь — 1 000, разовое обслуживание — 400;\\\n",
    "категория B: за ночь — 800, разовое обслуживание — 350;\\\n",
    "категория C: за ночь — 600, разовое обслуживание — 350;\\\n",
    "категория D: за ночь — 550, разовое обслуживание — 150;\\\n",
    "категория E: за ночь — 500, разовое обслуживание — 150;\\\n",
    "категория F: за ночь — 450, разовое обслуживание — 150;\\\n",
    "категория G: за ночь — 350, разовое обслуживание — 150.\n",
    "\n",
    "В ценовой политике отеля используются сезонные коэффициенты: весной и осенью цены повышаются на 20%, летом — на 40%.\n",
    "\n",
    "Убытки отеля в случае отмены брони номера — это стоимость одной уборки и одной ночи с учётом сезонного коэффициента.\n",
    "\n",
    "На разработку системы прогнозирования заложен бюджет — 400 000. При этом необходимо учесть, что внедрение модели должно окупиться за тестовый период. Затраты на разработку должны быть меньше той выручки, которую система принесёт компании."
   ]
  },
  {
   "cell_type": "markdown",
   "id": "902129a3-3380-4684-bdf6-d42e679b99a1",
   "metadata": {},
   "source": [
    "## Загрузка и подготовка данных"
   ]
  },
  {
   "cell_type": "markdown",
   "id": "95201e53-f7aa-43a7-ae04-b2100ad7df68",
   "metadata": {},
   "source": [
    "Импортируем необходимые библиотеки."
   ]
  },
  {
   "cell_type": "code",
   "execution_count": 1,
   "id": "055a5437-f6dc-47f4-9605-d2dcbaa8b224",
   "metadata": {
    "tags": []
   },
   "outputs": [],
   "source": [
    "import numpy as np\n",
    "import pandas as pd\n",
    "import seaborn as sns\n",
    "import matplotlib.pyplot as plt\n",
    "from sklearn.tree import DecisionTreeClassifier \n",
    "from sklearn.ensemble import RandomForestClassifier\n",
    "from sklearn.linear_model import LogisticRegression\n",
    "from sklearn.dummy import DummyClassifier\n",
    "from sklearn.metrics import accuracy_score\n",
    "from sklearn.metrics import recall_score\n",
    "from sklearn.metrics import roc_auc_score\n",
    "from sklearn.metrics import precision_score\n",
    "from sklearn.metrics import roc_curve\n",
    "from sklearn.metrics import f1_score\n",
    "from sklearn.metrics import precision_recall_curve\n",
    "from sklearn.model_selection import train_test_split\n",
    "from sklearn.preprocessing import StandardScaler\n",
    "from sklearn.preprocessing import OrdinalEncoder\n",
    "from sklearn.model_selection import cross_val_score\n",
    "import warnings\n",
    "warnings.filterwarnings(\"ignore\")\n",
    "pd.set_option(\"display.max_columns\", None)"
   ]
  },
  {
   "cell_type": "markdown",
   "id": "d5c1be11-2ae0-420b-95c5-b42e4d1ec293",
   "metadata": {},
   "source": [
    "Загрузим входные данные."
   ]
  },
  {
   "cell_type": "code",
   "execution_count": 2,
   "id": "8227a452-5aa8-4ed1-adc7-496f0bf81def",
   "metadata": {
    "tags": []
   },
   "outputs": [],
   "source": [
    "train = pd.read_csv(\"data/hotel_train.csv\")\n",
    "test = pd.read_csv(\"data/hotel_test.csv\")"
   ]
  },
  {
   "cell_type": "markdown",
   "id": "485ddeab-4cff-45d4-ba28-4d837701cbe2",
   "metadata": {},
   "source": [
    "Для удобства создадим объект `list` из датафреймов."
   ]
  },
  {
   "cell_type": "code",
   "execution_count": 3,
   "id": "7205e0c1-e1f5-449e-a3d4-46d158c4201c",
   "metadata": {},
   "outputs": [],
   "source": [
    "data_list = [train,test]"
   ]
  },
  {
   "cell_type": "markdown",
   "id": "462f86f8-95d5-4590-ae95-97dc0ad276b8",
   "metadata": {},
   "source": [
    "Как выглядят датафреймы? Посмотрим."
   ]
  },
  {
   "cell_type": "code",
   "execution_count": 4,
   "id": "068a4f11-9f77-4ef5-b168-4d293693ea9c",
   "metadata": {},
   "outputs": [
    {
     "data": {
      "text/html": [
       "<div>\n",
       "<style scoped>\n",
       "    .dataframe tbody tr th:only-of-type {\n",
       "        vertical-align: middle;\n",
       "    }\n",
       "\n",
       "    .dataframe tbody tr th {\n",
       "        vertical-align: top;\n",
       "    }\n",
       "\n",
       "    .dataframe thead th {\n",
       "        text-align: right;\n",
       "    }\n",
       "</style>\n",
       "<table border=\"1\" class=\"dataframe\">\n",
       "  <thead>\n",
       "    <tr style=\"text-align: right;\">\n",
       "      <th></th>\n",
       "      <th>id</th>\n",
       "      <th>is_canceled</th>\n",
       "      <th>lead_time</th>\n",
       "      <th>arrival_date_year</th>\n",
       "      <th>arrival_date_month</th>\n",
       "      <th>arrival_date_week_number</th>\n",
       "      <th>arrival_date_day_of_month</th>\n",
       "      <th>stays_in_weekend_nights</th>\n",
       "      <th>stays_in_week_nights</th>\n",
       "      <th>adults</th>\n",
       "      <th>children</th>\n",
       "      <th>babies</th>\n",
       "      <th>meal</th>\n",
       "      <th>country</th>\n",
       "      <th>distribution_channel</th>\n",
       "      <th>is_repeated_guest</th>\n",
       "      <th>previous_cancellations</th>\n",
       "      <th>previous_bookings_not_canceled</th>\n",
       "      <th>reserved_room_type</th>\n",
       "      <th>booking_changes</th>\n",
       "      <th>days_in_waiting_list</th>\n",
       "      <th>customer_type</th>\n",
       "      <th>required_car_parking_spaces</th>\n",
       "      <th>total_of_special_requests</th>\n",
       "      <th>total_nights</th>\n",
       "    </tr>\n",
       "  </thead>\n",
       "  <tbody>\n",
       "    <tr>\n",
       "      <th>0</th>\n",
       "      <td>0</td>\n",
       "      <td>0</td>\n",
       "      <td>7.0</td>\n",
       "      <td>2015</td>\n",
       "      <td>July</td>\n",
       "      <td>27</td>\n",
       "      <td>1</td>\n",
       "      <td>0</td>\n",
       "      <td>1</td>\n",
       "      <td>1.0</td>\n",
       "      <td>0.0</td>\n",
       "      <td>0.0</td>\n",
       "      <td>BB</td>\n",
       "      <td>GBR</td>\n",
       "      <td>Direct</td>\n",
       "      <td>0</td>\n",
       "      <td>0</td>\n",
       "      <td>0</td>\n",
       "      <td>A</td>\n",
       "      <td>0</td>\n",
       "      <td>0</td>\n",
       "      <td>Transient</td>\n",
       "      <td>0</td>\n",
       "      <td>0</td>\n",
       "      <td>1</td>\n",
       "    </tr>\n",
       "    <tr>\n",
       "      <th>1</th>\n",
       "      <td>1</td>\n",
       "      <td>0</td>\n",
       "      <td>14.0</td>\n",
       "      <td>2015</td>\n",
       "      <td>July</td>\n",
       "      <td>27</td>\n",
       "      <td>1</td>\n",
       "      <td>0</td>\n",
       "      <td>2</td>\n",
       "      <td>2.0</td>\n",
       "      <td>0.0</td>\n",
       "      <td>0.0</td>\n",
       "      <td>BB</td>\n",
       "      <td>GBR</td>\n",
       "      <td>TA/TO</td>\n",
       "      <td>0</td>\n",
       "      <td>0</td>\n",
       "      <td>0</td>\n",
       "      <td>A</td>\n",
       "      <td>0</td>\n",
       "      <td>0</td>\n",
       "      <td>Transient</td>\n",
       "      <td>0</td>\n",
       "      <td>1</td>\n",
       "      <td>2</td>\n",
       "    </tr>\n",
       "    <tr>\n",
       "      <th>2</th>\n",
       "      <td>2</td>\n",
       "      <td>0</td>\n",
       "      <td>0.0</td>\n",
       "      <td>2015</td>\n",
       "      <td>July</td>\n",
       "      <td>27</td>\n",
       "      <td>1</td>\n",
       "      <td>0</td>\n",
       "      <td>2</td>\n",
       "      <td>2.0</td>\n",
       "      <td>0.0</td>\n",
       "      <td>0.0</td>\n",
       "      <td>BB</td>\n",
       "      <td>PRT</td>\n",
       "      <td>Direct</td>\n",
       "      <td>0</td>\n",
       "      <td>0</td>\n",
       "      <td>0</td>\n",
       "      <td>C</td>\n",
       "      <td>0</td>\n",
       "      <td>0</td>\n",
       "      <td>Transient</td>\n",
       "      <td>0</td>\n",
       "      <td>0</td>\n",
       "      <td>2</td>\n",
       "    </tr>\n",
       "  </tbody>\n",
       "</table>\n",
       "</div>"
      ],
      "text/plain": [
       "   id  is_canceled  lead_time  arrival_date_year arrival_date_month  \\\n",
       "0   0            0        7.0               2015               July   \n",
       "1   1            0       14.0               2015               July   \n",
       "2   2            0        0.0               2015               July   \n",
       "\n",
       "   arrival_date_week_number  arrival_date_day_of_month  \\\n",
       "0                        27                          1   \n",
       "1                        27                          1   \n",
       "2                        27                          1   \n",
       "\n",
       "   stays_in_weekend_nights  stays_in_week_nights  adults  children  babies  \\\n",
       "0                        0                     1     1.0       0.0     0.0   \n",
       "1                        0                     2     2.0       0.0     0.0   \n",
       "2                        0                     2     2.0       0.0     0.0   \n",
       "\n",
       "        meal country distribution_channel  is_repeated_guest  \\\n",
       "0  BB            GBR               Direct                  0   \n",
       "1  BB            GBR                TA/TO                  0   \n",
       "2  BB            PRT               Direct                  0   \n",
       "\n",
       "   previous_cancellations  previous_bookings_not_canceled reserved_room_type  \\\n",
       "0                       0                               0   A                  \n",
       "1                       0                               0   A                  \n",
       "2                       0                               0   C                  \n",
       "\n",
       "   booking_changes  days_in_waiting_list customer_type  \\\n",
       "0                0                     0     Transient   \n",
       "1                0                     0     Transient   \n",
       "2                0                     0     Transient   \n",
       "\n",
       "   required_car_parking_spaces  total_of_special_requests  total_nights  \n",
       "0                            0                          0             1  \n",
       "1                            0                          1             2  \n",
       "2                            0                          0             2  "
      ]
     },
     "metadata": {},
     "output_type": "display_data"
    },
    {
     "data": {
      "text/html": [
       "<div>\n",
       "<style scoped>\n",
       "    .dataframe tbody tr th:only-of-type {\n",
       "        vertical-align: middle;\n",
       "    }\n",
       "\n",
       "    .dataframe tbody tr th {\n",
       "        vertical-align: top;\n",
       "    }\n",
       "\n",
       "    .dataframe thead th {\n",
       "        text-align: right;\n",
       "    }\n",
       "</style>\n",
       "<table border=\"1\" class=\"dataframe\">\n",
       "  <thead>\n",
       "    <tr style=\"text-align: right;\">\n",
       "      <th></th>\n",
       "      <th>id</th>\n",
       "      <th>is_canceled</th>\n",
       "      <th>lead_time</th>\n",
       "      <th>arrival_date_year</th>\n",
       "      <th>arrival_date_month</th>\n",
       "      <th>arrival_date_week_number</th>\n",
       "      <th>arrival_date_day_of_month</th>\n",
       "      <th>stays_in_weekend_nights</th>\n",
       "      <th>stays_in_week_nights</th>\n",
       "      <th>adults</th>\n",
       "      <th>children</th>\n",
       "      <th>babies</th>\n",
       "      <th>meal</th>\n",
       "      <th>country</th>\n",
       "      <th>distribution_channel</th>\n",
       "      <th>is_repeated_guest</th>\n",
       "      <th>previous_cancellations</th>\n",
       "      <th>previous_bookings_not_canceled</th>\n",
       "      <th>reserved_room_type</th>\n",
       "      <th>booking_changes</th>\n",
       "      <th>days_in_waiting_list</th>\n",
       "      <th>customer_type</th>\n",
       "      <th>required_car_parking_spaces</th>\n",
       "      <th>total_of_special_requests</th>\n",
       "      <th>total_nights</th>\n",
       "    </tr>\n",
       "  </thead>\n",
       "  <tbody>\n",
       "    <tr>\n",
       "      <th>0</th>\n",
       "      <td>6086</td>\n",
       "      <td>1</td>\n",
       "      <td>74.0</td>\n",
       "      <td>2017</td>\n",
       "      <td>January</td>\n",
       "      <td>1</td>\n",
       "      <td>1</td>\n",
       "      <td>1</td>\n",
       "      <td>0</td>\n",
       "      <td>2.0</td>\n",
       "      <td>0.0</td>\n",
       "      <td>0.0</td>\n",
       "      <td>BB</td>\n",
       "      <td>PRT</td>\n",
       "      <td>TA/TO</td>\n",
       "      <td>0</td>\n",
       "      <td>0</td>\n",
       "      <td>0</td>\n",
       "      <td>A</td>\n",
       "      <td>0</td>\n",
       "      <td>0</td>\n",
       "      <td>Transient</td>\n",
       "      <td>0</td>\n",
       "      <td>0</td>\n",
       "      <td>1</td>\n",
       "    </tr>\n",
       "    <tr>\n",
       "      <th>1</th>\n",
       "      <td>6087</td>\n",
       "      <td>1</td>\n",
       "      <td>62.0</td>\n",
       "      <td>2017</td>\n",
       "      <td>January</td>\n",
       "      <td>1</td>\n",
       "      <td>1</td>\n",
       "      <td>2</td>\n",
       "      <td>2</td>\n",
       "      <td>2.0</td>\n",
       "      <td>0.0</td>\n",
       "      <td>0.0</td>\n",
       "      <td>BB</td>\n",
       "      <td>AUT</td>\n",
       "      <td>TA/TO</td>\n",
       "      <td>0</td>\n",
       "      <td>0</td>\n",
       "      <td>0</td>\n",
       "      <td>A</td>\n",
       "      <td>0</td>\n",
       "      <td>0</td>\n",
       "      <td>Transient</td>\n",
       "      <td>0</td>\n",
       "      <td>1</td>\n",
       "      <td>4</td>\n",
       "    </tr>\n",
       "    <tr>\n",
       "      <th>2</th>\n",
       "      <td>6088</td>\n",
       "      <td>1</td>\n",
       "      <td>62.0</td>\n",
       "      <td>2017</td>\n",
       "      <td>January</td>\n",
       "      <td>1</td>\n",
       "      <td>1</td>\n",
       "      <td>2</td>\n",
       "      <td>2</td>\n",
       "      <td>2.0</td>\n",
       "      <td>0.0</td>\n",
       "      <td>0.0</td>\n",
       "      <td>BB</td>\n",
       "      <td>AUT</td>\n",
       "      <td>TA/TO</td>\n",
       "      <td>0</td>\n",
       "      <td>0</td>\n",
       "      <td>0</td>\n",
       "      <td>A</td>\n",
       "      <td>0</td>\n",
       "      <td>0</td>\n",
       "      <td>Transient</td>\n",
       "      <td>0</td>\n",
       "      <td>1</td>\n",
       "      <td>4</td>\n",
       "    </tr>\n",
       "  </tbody>\n",
       "</table>\n",
       "</div>"
      ],
      "text/plain": [
       "     id  is_canceled  lead_time  arrival_date_year arrival_date_month  \\\n",
       "0  6086            1       74.0               2017            January   \n",
       "1  6087            1       62.0               2017            January   \n",
       "2  6088            1       62.0               2017            January   \n",
       "\n",
       "   arrival_date_week_number  arrival_date_day_of_month  \\\n",
       "0                         1                          1   \n",
       "1                         1                          1   \n",
       "2                         1                          1   \n",
       "\n",
       "   stays_in_weekend_nights  stays_in_week_nights  adults  children  babies  \\\n",
       "0                        1                     0     2.0       0.0     0.0   \n",
       "1                        2                     2     2.0       0.0     0.0   \n",
       "2                        2                     2     2.0       0.0     0.0   \n",
       "\n",
       "        meal country distribution_channel  is_repeated_guest  \\\n",
       "0  BB            PRT                TA/TO                  0   \n",
       "1  BB            AUT                TA/TO                  0   \n",
       "2  BB            AUT                TA/TO                  0   \n",
       "\n",
       "   previous_cancellations  previous_bookings_not_canceled reserved_room_type  \\\n",
       "0                       0                               0   A                  \n",
       "1                       0                               0   A                  \n",
       "2                       0                               0   A                  \n",
       "\n",
       "   booking_changes  days_in_waiting_list customer_type  \\\n",
       "0                0                     0     Transient   \n",
       "1                0                     0     Transient   \n",
       "2                0                     0     Transient   \n",
       "\n",
       "   required_car_parking_spaces  total_of_special_requests  total_nights  \n",
       "0                            0                          0             1  \n",
       "1                            0                          1             4  \n",
       "2                            0                          1             4  "
      ]
     },
     "metadata": {},
     "output_type": "display_data"
    }
   ],
   "source": [
    "for data in data_list:\n",
    "    display(data.head(3))"
   ]
  },
  {
   "cell_type": "markdown",
   "id": "c27db232-44ba-43f5-bbff-aca50d74506f",
   "metadata": {},
   "source": [
    "Посмотрим типы данных."
   ]
  },
  {
   "cell_type": "code",
   "execution_count": 5,
   "id": "49820a0e-35b1-415f-a99d-95cb0faaf4b7",
   "metadata": {},
   "outputs": [
    {
     "name": "stdout",
     "output_type": "stream",
     "text": [
      "<class 'pandas.core.frame.DataFrame'>\n",
      "RangeIndex: 65229 entries, 0 to 65228\n",
      "Data columns (total 25 columns):\n",
      " #   Column                          Non-Null Count  Dtype  \n",
      "---  ------                          --------------  -----  \n",
      " 0   id                              65229 non-null  int64  \n",
      " 1   is_canceled                     65229 non-null  int64  \n",
      " 2   lead_time                       65229 non-null  float64\n",
      " 3   arrival_date_year               65229 non-null  int64  \n",
      " 4   arrival_date_month              65229 non-null  object \n",
      " 5   arrival_date_week_number        65229 non-null  int64  \n",
      " 6   arrival_date_day_of_month       65229 non-null  int64  \n",
      " 7   stays_in_weekend_nights         65229 non-null  int64  \n",
      " 8   stays_in_week_nights            65229 non-null  int64  \n",
      " 9   adults                          65229 non-null  float64\n",
      " 10  children                        65229 non-null  float64\n",
      " 11  babies                          65229 non-null  float64\n",
      " 12  meal                            65229 non-null  object \n",
      " 13  country                         65229 non-null  object \n",
      " 14  distribution_channel            65229 non-null  object \n",
      " 15  is_repeated_guest               65229 non-null  int64  \n",
      " 16  previous_cancellations          65229 non-null  int64  \n",
      " 17  previous_bookings_not_canceled  65229 non-null  int64  \n",
      " 18  reserved_room_type              65229 non-null  object \n",
      " 19  booking_changes                 65229 non-null  int64  \n",
      " 20  days_in_waiting_list            65229 non-null  int64  \n",
      " 21  customer_type                   65229 non-null  object \n",
      " 22  required_car_parking_spaces     65229 non-null  int64  \n",
      " 23  total_of_special_requests       65229 non-null  int64  \n",
      " 24  total_nights                    65229 non-null  int64  \n",
      "dtypes: float64(4), int64(15), object(6)\n",
      "memory usage: 12.4+ MB\n",
      "None\n",
      "************************************************************\n",
      "<class 'pandas.core.frame.DataFrame'>\n",
      "RangeIndex: 32412 entries, 0 to 32411\n",
      "Data columns (total 25 columns):\n",
      " #   Column                          Non-Null Count  Dtype  \n",
      "---  ------                          --------------  -----  \n",
      " 0   id                              32412 non-null  int64  \n",
      " 1   is_canceled                     32412 non-null  int64  \n",
      " 2   lead_time                       32412 non-null  float64\n",
      " 3   arrival_date_year               32412 non-null  int64  \n",
      " 4   arrival_date_month              32412 non-null  object \n",
      " 5   arrival_date_week_number        32412 non-null  int64  \n",
      " 6   arrival_date_day_of_month       32412 non-null  int64  \n",
      " 7   stays_in_weekend_nights         32412 non-null  int64  \n",
      " 8   stays_in_week_nights            32412 non-null  int64  \n",
      " 9   adults                          32412 non-null  float64\n",
      " 10  children                        32412 non-null  float64\n",
      " 11  babies                          32412 non-null  float64\n",
      " 12  meal                            32412 non-null  object \n",
      " 13  country                         32412 non-null  object \n",
      " 14  distribution_channel            32412 non-null  object \n",
      " 15  is_repeated_guest               32412 non-null  int64  \n",
      " 16  previous_cancellations          32412 non-null  int64  \n",
      " 17  previous_bookings_not_canceled  32412 non-null  int64  \n",
      " 18  reserved_room_type              32412 non-null  object \n",
      " 19  booking_changes                 32412 non-null  int64  \n",
      " 20  days_in_waiting_list            32412 non-null  int64  \n",
      " 21  customer_type                   32412 non-null  object \n",
      " 22  required_car_parking_spaces     32412 non-null  int64  \n",
      " 23  total_of_special_requests       32412 non-null  int64  \n",
      " 24  total_nights                    32412 non-null  int64  \n",
      "dtypes: float64(4), int64(15), object(6)\n",
      "memory usage: 6.2+ MB\n",
      "None\n",
      "************************************************************\n"
     ]
    }
   ],
   "source": [
    "for data in data_list:\n",
    "    print(data.info())\n",
    "    print(\"*\"*60)"
   ]
  },
  {
   "cell_type": "markdown",
   "id": "662c1189-6f9b-4a37-ab40-b7d1495a676a",
   "metadata": {},
   "source": [
    "[В начало](#intro)"
   ]
  },
  {
   "cell_type": "markdown",
   "id": "c8fb17a0-5097-4abd-9883-a8b96e74359a",
   "metadata": {},
   "source": [
    "## Предобработка и исследовательский анализ данных"
   ]
  },
  {
   "cell_type": "markdown",
   "id": "63cfdadd-f1cf-4746-83d6-e67606ea53c9",
   "metadata": {},
   "source": [
    "Перейдем к предобработке данных, проверим наличие явных дубликатов."
   ]
  },
  {
   "cell_type": "code",
   "execution_count": 6,
   "id": "85097ed0-1c8c-43ee-a85d-2182c544e71e",
   "metadata": {},
   "outputs": [
    {
     "data": {
      "text/html": [
       "<div>\n",
       "<style scoped>\n",
       "    .dataframe tbody tr th:only-of-type {\n",
       "        vertical-align: middle;\n",
       "    }\n",
       "\n",
       "    .dataframe tbody tr th {\n",
       "        vertical-align: top;\n",
       "    }\n",
       "\n",
       "    .dataframe thead th {\n",
       "        text-align: right;\n",
       "    }\n",
       "</style>\n",
       "<table border=\"1\" class=\"dataframe\">\n",
       "  <thead>\n",
       "    <tr style=\"text-align: right;\">\n",
       "      <th></th>\n",
       "      <th>id</th>\n",
       "      <th>is_canceled</th>\n",
       "      <th>lead_time</th>\n",
       "      <th>arrival_date_year</th>\n",
       "      <th>arrival_date_month</th>\n",
       "      <th>arrival_date_week_number</th>\n",
       "      <th>arrival_date_day_of_month</th>\n",
       "      <th>stays_in_weekend_nights</th>\n",
       "      <th>stays_in_week_nights</th>\n",
       "      <th>adults</th>\n",
       "      <th>children</th>\n",
       "      <th>babies</th>\n",
       "      <th>meal</th>\n",
       "      <th>country</th>\n",
       "      <th>distribution_channel</th>\n",
       "      <th>is_repeated_guest</th>\n",
       "      <th>previous_cancellations</th>\n",
       "      <th>previous_bookings_not_canceled</th>\n",
       "      <th>reserved_room_type</th>\n",
       "      <th>booking_changes</th>\n",
       "      <th>days_in_waiting_list</th>\n",
       "      <th>customer_type</th>\n",
       "      <th>required_car_parking_spaces</th>\n",
       "      <th>total_of_special_requests</th>\n",
       "      <th>total_nights</th>\n",
       "    </tr>\n",
       "  </thead>\n",
       "  <tbody>\n",
       "  </tbody>\n",
       "</table>\n",
       "</div>"
      ],
      "text/plain": [
       "Empty DataFrame\n",
       "Columns: [id, is_canceled, lead_time, arrival_date_year, arrival_date_month, arrival_date_week_number, arrival_date_day_of_month, stays_in_weekend_nights, stays_in_week_nights, adults, children, babies, meal, country, distribution_channel, is_repeated_guest, previous_cancellations, previous_bookings_not_canceled, reserved_room_type, booking_changes, days_in_waiting_list, customer_type, required_car_parking_spaces, total_of_special_requests, total_nights]\n",
       "Index: []"
      ]
     },
     "metadata": {},
     "output_type": "display_data"
    },
    {
     "data": {
      "text/html": [
       "<div>\n",
       "<style scoped>\n",
       "    .dataframe tbody tr th:only-of-type {\n",
       "        vertical-align: middle;\n",
       "    }\n",
       "\n",
       "    .dataframe tbody tr th {\n",
       "        vertical-align: top;\n",
       "    }\n",
       "\n",
       "    .dataframe thead th {\n",
       "        text-align: right;\n",
       "    }\n",
       "</style>\n",
       "<table border=\"1\" class=\"dataframe\">\n",
       "  <thead>\n",
       "    <tr style=\"text-align: right;\">\n",
       "      <th></th>\n",
       "      <th>id</th>\n",
       "      <th>is_canceled</th>\n",
       "      <th>lead_time</th>\n",
       "      <th>arrival_date_year</th>\n",
       "      <th>arrival_date_month</th>\n",
       "      <th>arrival_date_week_number</th>\n",
       "      <th>arrival_date_day_of_month</th>\n",
       "      <th>stays_in_weekend_nights</th>\n",
       "      <th>stays_in_week_nights</th>\n",
       "      <th>adults</th>\n",
       "      <th>children</th>\n",
       "      <th>babies</th>\n",
       "      <th>meal</th>\n",
       "      <th>country</th>\n",
       "      <th>distribution_channel</th>\n",
       "      <th>is_repeated_guest</th>\n",
       "      <th>previous_cancellations</th>\n",
       "      <th>previous_bookings_not_canceled</th>\n",
       "      <th>reserved_room_type</th>\n",
       "      <th>booking_changes</th>\n",
       "      <th>days_in_waiting_list</th>\n",
       "      <th>customer_type</th>\n",
       "      <th>required_car_parking_spaces</th>\n",
       "      <th>total_of_special_requests</th>\n",
       "      <th>total_nights</th>\n",
       "    </tr>\n",
       "  </thead>\n",
       "  <tbody>\n",
       "  </tbody>\n",
       "</table>\n",
       "</div>"
      ],
      "text/plain": [
       "Empty DataFrame\n",
       "Columns: [id, is_canceled, lead_time, arrival_date_year, arrival_date_month, arrival_date_week_number, arrival_date_day_of_month, stays_in_weekend_nights, stays_in_week_nights, adults, children, babies, meal, country, distribution_channel, is_repeated_guest, previous_cancellations, previous_bookings_not_canceled, reserved_room_type, booking_changes, days_in_waiting_list, customer_type, required_car_parking_spaces, total_of_special_requests, total_nights]\n",
       "Index: []"
      ]
     },
     "metadata": {},
     "output_type": "display_data"
    }
   ],
   "source": [
    "for data in data_list:\n",
    "    display(data[data.duplicated()])"
   ]
  },
  {
   "cell_type": "markdown",
   "id": "8d23cc09-54b5-4945-90f7-3f3572f9a307",
   "metadata": {},
   "source": [
    "Удалим ненужные столбцы `id`, `arrival_date_year`. Столбец `arrival_date_year` не нужен для нашей модели, также не помогает в выявлении признаков «ненадёжного» клиента."
   ]
  },
  {
   "cell_type": "markdown",
   "id": "9750b7ef-58d2-4051-8c71-41fe43aa1ff2",
   "metadata": {},
   "source": [
    "Проверим еще раз наличие дубликатов."
   ]
  },
  {
   "cell_type": "code",
   "execution_count": 7,
   "id": "9e8378c6-ec47-458a-8153-39bccce1b1c0",
   "metadata": {},
   "outputs": [
    {
     "name": "stdout",
     "output_type": "stream",
     "text": [
      "21387\n",
      "7717\n"
     ]
    }
   ],
   "source": [
    "for data in data_list:\n",
    "    data.drop([\"id\", \"arrival_date_year\"], axis=1, inplace=True)\n",
    "    print(data.duplicated().sum())"
   ]
  },
  {
   "cell_type": "markdown",
   "id": "33aa96f5-6b90-4bc3-a3ac-b215de5de74e",
   "metadata": {},
   "source": [
    "Обнаружены дубликаты в большом количестве как в обучающем, так и тестовом наборе данных. Можем ли мы удалить эти дубликаты? Потенциально да, однако, невозможно установить причину и определить эти данные как дубликаты, поскольку, это могут быть туристы с одинаковыми параметрами, удалив данные мы не рассчитаем действительную прибыль отеля, поэтому пока оставляем."
   ]
  },
  {
   "cell_type": "markdown",
   "id": "72a7ce82-f0e2-41af-909c-8d5ad3eed29c",
   "metadata": {},
   "source": [
    "Поохотимся на неявные дубликаты."
   ]
  },
  {
   "cell_type": "code",
   "execution_count": 8,
   "id": "dba6e0a2-3d44-4568-a186-cea750957835",
   "metadata": {},
   "outputs": [
    {
     "name": "stdout",
     "output_type": "stream",
     "text": [
      "['July' 'August' 'September' 'October' 'November' 'December' 'January'\n",
      " 'February' 'March' 'April' 'May' 'June']\n",
      "['January' 'February' 'March' 'April' 'May' 'June' 'July' 'August']\n"
     ]
    }
   ],
   "source": [
    "print(train[\"arrival_date_month\"].unique())\n",
    "print(test[\"arrival_date_month\"].unique())"
   ]
  },
  {
   "cell_type": "markdown",
   "id": "82c3353a-6ba0-4a9c-a9c5-cca375064783",
   "metadata": {},
   "source": [
    "Тут все в порядке. Стоит упомянуть, что тестовый набор не представлен всеми месяцами в году, учтем это при построении логистической регресии, где не подходит порядкое кодирование."
   ]
  },
  {
   "cell_type": "code",
   "execution_count": 9,
   "id": "02a7bd9f-03db-4be8-a96c-86ae38dfc1ab",
   "metadata": {},
   "outputs": [
    {
     "name": "stdout",
     "output_type": "stream",
     "text": [
      "['BB       ' 'FB       ' 'HB       ' 'SC       ' 'SC']\n",
      "['BB       ' 'HB       ' 'SC' 'FB       ' 'SC       ']\n"
     ]
    }
   ],
   "source": [
    "print(train[\"meal\"].unique())\n",
    "print(test[\"meal\"].unique())"
   ]
  },
  {
   "cell_type": "markdown",
   "id": "4b19a87f-6cf1-4468-a411-ac14913828ac",
   "metadata": {},
   "source": [
    "Удалим пробелы для унификации."
   ]
  },
  {
   "cell_type": "code",
   "execution_count": 10,
   "id": "c7edad90-ba5e-43e4-82ae-2235d93ff78b",
   "metadata": {},
   "outputs": [
    {
     "name": "stdout",
     "output_type": "stream",
     "text": [
      "['BB' 'FB' 'HB' 'SC']\n",
      "['BB' 'HB' 'SC' 'FB']\n"
     ]
    }
   ],
   "source": [
    "train[\"meal\"] =  train[\"meal\"].str.strip()\n",
    "test[\"meal\"] = test[\"meal\"].str.strip()\n",
    "print(train[\"meal\"].unique())\n",
    "print(test[\"meal\"].unique())"
   ]
  },
  {
   "cell_type": "code",
   "execution_count": 11,
   "id": "55b6d8be-d425-4004-b870-9b36d80da770",
   "metadata": {},
   "outputs": [
    {
     "name": "stdout",
     "output_type": "stream",
     "text": [
      "['GBR' 'PRT' 'ESP' 'IRL' 'FRA' 'ROU' 'NOR' 'USA' 'DEU' 'BEL' 'CHE' 'CN'\n",
      " 'GRC' 'NLD' 'ARG' 'RUS' 'SWE' 'POL' 'EST' 'CZE' 'ITA' 'FIN' 'DNK' 'MOZ'\n",
      " 'BWA' 'LUX' 'BRA' 'SVN' 'ALB' 'CHN' 'MEX' 'MAR' 'SMR' 'LVA' 'CHL' 'AUT'\n",
      " 'LTU' 'TUR' 'ISR' 'IND' 'CYM' 'AUS' 'CPV' 'ZWE' 'DZA' 'KOR' 'CRI' 'HUN'\n",
      " 'TUN' 'ARE' 'HRV' 'HKG' 'IRN' 'GIB' 'JEY' 'URY' 'ZAF' 'COL' 'GGY' 'KWT'\n",
      " 'CYP' 'KAZ' 'THA' 'DOM' 'NGA' 'BLR' 'VEN' 'UKR' 'ARM' 'JPN' 'LKA' 'MYS'\n",
      " 'BIH' 'MUS' 'OMN' 'SUR' 'JAM' 'BGR' 'CIV' 'SRB' 'JOR' 'SYR' 'PHL' 'PRI'\n",
      " 'SGP' 'BDI' 'LBN' 'AGO' 'VNM' 'AZE' 'PLW' 'NZL' 'EGY' 'MDV' 'CMR' 'MLT'\n",
      " 'SVK' 'MWI' 'STP' 'TWN' 'IDN' 'SEN' 'PER' 'SAU' 'KNA' 'ETH' 'ECU' 'IRQ'\n",
      " 'AND' 'HND' 'PAK' 'GEO' 'ZMB' 'QAT' 'KHM' 'MCO' 'BGD' 'ISL' 'UZB' 'IMN'\n",
      " 'TJK' 'NIC' 'BEN' 'MAC' 'VGB' 'TZA' 'GAB' 'MKD' 'TMP' 'GLP' 'KEN' 'LIE'\n",
      " 'MMR' 'PAN' 'BFA' 'LBY' 'GNB' 'MLI' 'BHR' 'NAM' 'BOL' 'SYC' 'PRY' 'BRB'\n",
      " 'ABW' 'SLV' 'DMA' 'CUB' 'PYF' 'UGA' 'GUY' 'LCA' 'ATA' 'RWA' 'MNE']\n",
      "['PRT' 'AUT' 'BEL' 'DEU' 'BRA' 'GBR' 'ESP' 'FRA' 'ITA' 'LUX' 'CHE' 'EST'\n",
      " 'NGA' 'IRL' 'CN' 'POL' 'AUS' 'NLD' 'KOR' 'ROU' 'USA' 'CHL' 'DNK' 'FIN'\n",
      " 'RUS' 'SWE' 'HUN' 'HRV' 'MDV' 'ZAF' 'ISR' 'NOR' 'CHN' 'ARE' 'MAR' 'COL'\n",
      " 'FJI' 'LVA' 'LBN' 'PHL' 'HKG' 'SYC' 'GIB' 'AGO' 'MYS' 'MDG' 'IDN' 'LTU'\n",
      " 'ISL' 'TUR' 'ARG' 'JPN' 'SVN' 'SVK' 'BGR' 'CAF' 'JAM' 'UZB' 'UKR' 'IND'\n",
      " 'CZE' 'URY' 'NZL' 'NPL' 'SRB' 'CPV' 'IRN' 'KAZ' 'BHS' 'SUR' 'CUB' 'PAK'\n",
      " 'MAC' 'CYP' 'JOR' 'GRC' 'KWT' 'TWN' 'VNM' 'SGP' 'DOM' 'VEN' 'SEN' 'BLR'\n",
      " 'TZA' 'LIE' 'GNB' 'SAU' 'DZA' 'PER' 'AZE' 'EGY' 'ETH' 'KEN' 'THA' 'MLT'\n",
      " 'ECU' 'AND' 'IMN' 'BHR' 'TUN' 'MNE' 'MEX' 'BEN' 'MOZ' 'UMI' 'JEY' 'MYT'\n",
      " 'QAT' 'BGD' 'GAB' 'CIV' 'ZWE' 'GTM' 'ALB' 'GHA' 'ATA' 'ASM' 'PAN' 'CRI'\n",
      " 'MCO' 'MUS' 'SYR' 'TGO' 'IRQ' 'LKA' 'BIH' 'PRY' 'MRT' 'ABW' 'NCL' 'STP'\n",
      " 'KIR' 'SDN' 'PRI' 'ATF' 'CMR' 'TJK' 'LBY' 'SLE' 'SLV' 'LAO' 'FRO']\n"
     ]
    }
   ],
   "source": [
    "print(train[\"country\"].unique())\n",
    "print(test[\"country\"].unique())"
   ]
  },
  {
   "cell_type": "code",
   "execution_count": 12,
   "id": "e1c18218-ca44-41bc-9a61-58413f4d4757",
   "metadata": {},
   "outputs": [
    {
     "name": "stdout",
     "output_type": "stream",
     "text": [
      "['Direct' 'TA/TO' 'Corporate' 'GDS']\n",
      "['TA/TO' 'Direct' 'Corporate' 'GDS']\n"
     ]
    }
   ],
   "source": [
    "print(train[\"distribution_channel\"].unique())\n",
    "print(test[\"distribution_channel\"].unique())"
   ]
  },
  {
   "cell_type": "code",
   "execution_count": 13,
   "id": "98201b29-8583-458a-82f6-78ad38404a7f",
   "metadata": {},
   "outputs": [
    {
     "name": "stdout",
     "output_type": "stream",
     "text": [
      "['A               ' 'C               ' 'D               '\n",
      " 'E               ' 'G               ' 'F               '\n",
      " 'B               ']\n",
      "['A               ' 'E               ' 'G               '\n",
      " 'D               ' 'F               ' 'C               '\n",
      " 'B               ']\n"
     ]
    }
   ],
   "source": [
    "print(train[\"reserved_room_type\"].unique())\n",
    "print(test[\"reserved_room_type\"].unique())"
   ]
  },
  {
   "cell_type": "markdown",
   "id": "59084076-0a6a-459d-aef7-1662db9fac51",
   "metadata": {},
   "source": [
    "Аналогично, удалим пробелы для унификации."
   ]
  },
  {
   "cell_type": "code",
   "execution_count": 14,
   "id": "f95564fc-44d2-4e67-acce-1c2fca2648dd",
   "metadata": {},
   "outputs": [
    {
     "name": "stdout",
     "output_type": "stream",
     "text": [
      "['A' 'C' 'D' 'E' 'G' 'F' 'B']\n",
      "['A' 'E' 'G' 'D' 'F' 'C' 'B']\n"
     ]
    }
   ],
   "source": [
    "train[\"reserved_room_type\"] = train[\"reserved_room_type\"].str.strip()\n",
    "test[\"reserved_room_type\"] = test[\"reserved_room_type\"].str.strip()\n",
    "print(train[\"reserved_room_type\"].unique())\n",
    "print(test[\"reserved_room_type\"].unique())"
   ]
  },
  {
   "cell_type": "code",
   "execution_count": 15,
   "id": "cc5b0f77-c620-436b-b4a8-c1ecd76a2a80",
   "metadata": {},
   "outputs": [
    {
     "name": "stdout",
     "output_type": "stream",
     "text": [
      "['Transient' 'Contract' 'Transient-Party' 'Group']\n",
      "['Transient' 'Transient-Party' 'Contract' 'Group']\n"
     ]
    }
   ],
   "source": [
    "print(train[\"customer_type\"].unique())\n",
    "print(test[\"customer_type\"].unique())"
   ]
  },
  {
   "cell_type": "markdown",
   "id": "f02a500d-f87b-4429-8b89-4281ac67a9d3",
   "metadata": {},
   "source": [
    "Посмотрим методом describe на объекты типа \"object\"."
   ]
  },
  {
   "cell_type": "code",
   "execution_count": 16,
   "id": "1e38ebc7-fff3-47e4-a134-b206cff9c289",
   "metadata": {},
   "outputs": [],
   "source": [
    "concat = pd.concat([train]+[test])"
   ]
  },
  {
   "cell_type": "code",
   "execution_count": 17,
   "id": "de594891-5e79-4f1d-aeed-91abcf94540f",
   "metadata": {
    "tags": []
   },
   "outputs": [
    {
     "data": {
      "text/html": [
       "<div>\n",
       "<style scoped>\n",
       "    .dataframe tbody tr th:only-of-type {\n",
       "        vertical-align: middle;\n",
       "    }\n",
       "\n",
       "    .dataframe tbody tr th {\n",
       "        vertical-align: top;\n",
       "    }\n",
       "\n",
       "    .dataframe thead th {\n",
       "        text-align: right;\n",
       "    }\n",
       "</style>\n",
       "<table border=\"1\" class=\"dataframe\">\n",
       "  <thead>\n",
       "    <tr style=\"text-align: right;\">\n",
       "      <th></th>\n",
       "      <th>count</th>\n",
       "      <th>unique</th>\n",
       "      <th>top</th>\n",
       "      <th>freq</th>\n",
       "    </tr>\n",
       "  </thead>\n",
       "  <tbody>\n",
       "    <tr>\n",
       "      <th>arrival_date_month</th>\n",
       "      <td>97641</td>\n",
       "      <td>12</td>\n",
       "      <td>May</td>\n",
       "      <td>9939</td>\n",
       "    </tr>\n",
       "    <tr>\n",
       "      <th>meal</th>\n",
       "      <td>97641</td>\n",
       "      <td>4</td>\n",
       "      <td>BB</td>\n",
       "      <td>76381</td>\n",
       "    </tr>\n",
       "    <tr>\n",
       "      <th>country</th>\n",
       "      <td>97641</td>\n",
       "      <td>174</td>\n",
       "      <td>PRT</td>\n",
       "      <td>38718</td>\n",
       "    </tr>\n",
       "    <tr>\n",
       "      <th>distribution_channel</th>\n",
       "      <td>97641</td>\n",
       "      <td>4</td>\n",
       "      <td>TA/TO</td>\n",
       "      <td>81537</td>\n",
       "    </tr>\n",
       "    <tr>\n",
       "      <th>reserved_room_type</th>\n",
       "      <td>97641</td>\n",
       "      <td>7</td>\n",
       "      <td>A</td>\n",
       "      <td>73972</td>\n",
       "    </tr>\n",
       "    <tr>\n",
       "      <th>customer_type</th>\n",
       "      <td>97641</td>\n",
       "      <td>4</td>\n",
       "      <td>Transient</td>\n",
       "      <td>72954</td>\n",
       "    </tr>\n",
       "  </tbody>\n",
       "</table>\n",
       "</div>"
      ],
      "text/plain": [
       "                      count unique        top   freq\n",
       "arrival_date_month    97641     12        May   9939\n",
       "meal                  97641      4         BB  76381\n",
       "country               97641    174        PRT  38718\n",
       "distribution_channel  97641      4      TA/TO  81537\n",
       "reserved_room_type    97641      7          A  73972\n",
       "customer_type         97641      4  Transient  72954"
      ]
     },
     "metadata": {},
     "output_type": "display_data"
    },
    {
     "data": {
      "text/html": [
       "<div>\n",
       "<style scoped>\n",
       "    .dataframe tbody tr th:only-of-type {\n",
       "        vertical-align: middle;\n",
       "    }\n",
       "\n",
       "    .dataframe tbody tr th {\n",
       "        vertical-align: top;\n",
       "    }\n",
       "\n",
       "    .dataframe thead th {\n",
       "        text-align: right;\n",
       "    }\n",
       "</style>\n",
       "<table border=\"1\" class=\"dataframe\">\n",
       "  <thead>\n",
       "    <tr style=\"text-align: right;\">\n",
       "      <th></th>\n",
       "      <th>count</th>\n",
       "      <th>unique</th>\n",
       "      <th>top</th>\n",
       "      <th>freq</th>\n",
       "    </tr>\n",
       "  </thead>\n",
       "  <tbody>\n",
       "    <tr>\n",
       "      <th>arrival_date_month</th>\n",
       "      <td>65229</td>\n",
       "      <td>12</td>\n",
       "      <td>October</td>\n",
       "      <td>9255</td>\n",
       "    </tr>\n",
       "    <tr>\n",
       "      <th>meal</th>\n",
       "      <td>65229</td>\n",
       "      <td>4</td>\n",
       "      <td>BB</td>\n",
       "      <td>51697</td>\n",
       "    </tr>\n",
       "    <tr>\n",
       "      <th>country</th>\n",
       "      <td>65229</td>\n",
       "      <td>155</td>\n",
       "      <td>PRT</td>\n",
       "      <td>28831</td>\n",
       "    </tr>\n",
       "    <tr>\n",
       "      <th>distribution_channel</th>\n",
       "      <td>65229</td>\n",
       "      <td>4</td>\n",
       "      <td>TA/TO</td>\n",
       "      <td>54454</td>\n",
       "    </tr>\n",
       "    <tr>\n",
       "      <th>reserved_room_type</th>\n",
       "      <td>65229</td>\n",
       "      <td>7</td>\n",
       "      <td>A</td>\n",
       "      <td>50501</td>\n",
       "    </tr>\n",
       "    <tr>\n",
       "      <th>customer_type</th>\n",
       "      <td>65229</td>\n",
       "      <td>4</td>\n",
       "      <td>Transient</td>\n",
       "      <td>45493</td>\n",
       "    </tr>\n",
       "  </tbody>\n",
       "</table>\n",
       "</div>"
      ],
      "text/plain": [
       "                      count unique        top   freq\n",
       "arrival_date_month    65229     12    October   9255\n",
       "meal                  65229      4         BB  51697\n",
       "country               65229    155        PRT  28831\n",
       "distribution_channel  65229      4      TA/TO  54454\n",
       "reserved_room_type    65229      7          A  50501\n",
       "customer_type         65229      4  Transient  45493"
      ]
     },
     "metadata": {},
     "output_type": "display_data"
    },
    {
     "data": {
      "text/html": [
       "<div>\n",
       "<style scoped>\n",
       "    .dataframe tbody tr th:only-of-type {\n",
       "        vertical-align: middle;\n",
       "    }\n",
       "\n",
       "    .dataframe tbody tr th {\n",
       "        vertical-align: top;\n",
       "    }\n",
       "\n",
       "    .dataframe thead th {\n",
       "        text-align: right;\n",
       "    }\n",
       "</style>\n",
       "<table border=\"1\" class=\"dataframe\">\n",
       "  <thead>\n",
       "    <tr style=\"text-align: right;\">\n",
       "      <th></th>\n",
       "      <th>count</th>\n",
       "      <th>unique</th>\n",
       "      <th>top</th>\n",
       "      <th>freq</th>\n",
       "    </tr>\n",
       "  </thead>\n",
       "  <tbody>\n",
       "    <tr>\n",
       "      <th>arrival_date_month</th>\n",
       "      <td>32412</td>\n",
       "      <td>8</td>\n",
       "      <td>May</td>\n",
       "      <td>5262</td>\n",
       "    </tr>\n",
       "    <tr>\n",
       "      <th>meal</th>\n",
       "      <td>32412</td>\n",
       "      <td>4</td>\n",
       "      <td>BB</td>\n",
       "      <td>24684</td>\n",
       "    </tr>\n",
       "    <tr>\n",
       "      <th>country</th>\n",
       "      <td>32412</td>\n",
       "      <td>143</td>\n",
       "      <td>PRT</td>\n",
       "      <td>9887</td>\n",
       "    </tr>\n",
       "    <tr>\n",
       "      <th>distribution_channel</th>\n",
       "      <td>32412</td>\n",
       "      <td>4</td>\n",
       "      <td>TA/TO</td>\n",
       "      <td>27083</td>\n",
       "    </tr>\n",
       "    <tr>\n",
       "      <th>reserved_room_type</th>\n",
       "      <td>32412</td>\n",
       "      <td>7</td>\n",
       "      <td>A</td>\n",
       "      <td>23471</td>\n",
       "    </tr>\n",
       "    <tr>\n",
       "      <th>customer_type</th>\n",
       "      <td>32412</td>\n",
       "      <td>4</td>\n",
       "      <td>Transient</td>\n",
       "      <td>27461</td>\n",
       "    </tr>\n",
       "  </tbody>\n",
       "</table>\n",
       "</div>"
      ],
      "text/plain": [
       "                      count unique        top   freq\n",
       "arrival_date_month    32412      8        May   5262\n",
       "meal                  32412      4         BB  24684\n",
       "country               32412    143        PRT   9887\n",
       "distribution_channel  32412      4      TA/TO  27083\n",
       "reserved_room_type    32412      7          A  23471\n",
       "customer_type         32412      4  Transient  27461"
      ]
     },
     "metadata": {},
     "output_type": "display_data"
    }
   ],
   "source": [
    "display(concat.describe(include=\"object\").T) # Посмотрим общее распределение\n",
    "for data in data_list:\n",
    "    display(data.describe(include=\"object\").T) # посмотрим распределение данных в обучающей и тестовой выборке по-отдельности"
   ]
  },
  {
   "cell_type": "markdown",
   "id": "039285a4-cb19-4082-aa2e-2ea0da875b89",
   "metadata": {},
   "source": [
    "Судя по данным аномалии или артефакты отсутствуют, какие еще можем сделать выводы:\n",
    "- наиболее популярный месяц для бронивания - май;\n",
    "- чаще всего клиенты прибывают в отель из Португалии;\n",
    "- больше всего клиенты предпочитают тип питания - только завтраки и самые дорогие номера;\n",
    "- самый популярный тип клиента Transient - индивидуальный заезд."
   ]
  },
  {
   "cell_type": "markdown",
   "id": "75721e69-9a7f-498b-ab97-731d279d76a9",
   "metadata": {},
   "source": [
    "Посмотрим статистическое описание количественных данных."
   ]
  },
  {
   "cell_type": "code",
   "execution_count": 18,
   "id": "63d8d764-7aed-4b5a-a487-609392742fd5",
   "metadata": {},
   "outputs": [
    {
     "data": {
      "text/html": [
       "<div>\n",
       "<style scoped>\n",
       "    .dataframe tbody tr th:only-of-type {\n",
       "        vertical-align: middle;\n",
       "    }\n",
       "\n",
       "    .dataframe tbody tr th {\n",
       "        vertical-align: top;\n",
       "    }\n",
       "\n",
       "    .dataframe thead th {\n",
       "        text-align: right;\n",
       "    }\n",
       "</style>\n",
       "<table border=\"1\" class=\"dataframe\">\n",
       "  <thead>\n",
       "    <tr style=\"text-align: right;\">\n",
       "      <th></th>\n",
       "      <th>count</th>\n",
       "      <th>mean</th>\n",
       "      <th>std</th>\n",
       "      <th>min</th>\n",
       "      <th>25%</th>\n",
       "      <th>50%</th>\n",
       "      <th>75%</th>\n",
       "      <th>max</th>\n",
       "    </tr>\n",
       "  </thead>\n",
       "  <tbody>\n",
       "    <tr>\n",
       "      <th>is_canceled</th>\n",
       "      <td>97641.0</td>\n",
       "      <td>0.375201</td>\n",
       "      <td>0.484177</td>\n",
       "      <td>0.0</td>\n",
       "      <td>0.0</td>\n",
       "      <td>0.0</td>\n",
       "      <td>1.0</td>\n",
       "      <td>1.0</td>\n",
       "    </tr>\n",
       "    <tr>\n",
       "      <th>lead_time</th>\n",
       "      <td>97641.0</td>\n",
       "      <td>96.752839</td>\n",
       "      <td>93.045823</td>\n",
       "      <td>0.0</td>\n",
       "      <td>19.0</td>\n",
       "      <td>68.0</td>\n",
       "      <td>152.0</td>\n",
       "      <td>374.0</td>\n",
       "    </tr>\n",
       "    <tr>\n",
       "      <th>arrival_date_week_number</th>\n",
       "      <td>97641.0</td>\n",
       "      <td>26.846581</td>\n",
       "      <td>13.772847</td>\n",
       "      <td>1.0</td>\n",
       "      <td>16.0</td>\n",
       "      <td>27.0</td>\n",
       "      <td>38.0</td>\n",
       "      <td>53.0</td>\n",
       "    </tr>\n",
       "    <tr>\n",
       "      <th>arrival_date_day_of_month</th>\n",
       "      <td>97641.0</td>\n",
       "      <td>15.784455</td>\n",
       "      <td>8.754660</td>\n",
       "      <td>1.0</td>\n",
       "      <td>8.0</td>\n",
       "      <td>16.0</td>\n",
       "      <td>23.0</td>\n",
       "      <td>31.0</td>\n",
       "    </tr>\n",
       "    <tr>\n",
       "      <th>stays_in_weekend_nights</th>\n",
       "      <td>97641.0</td>\n",
       "      <td>0.839361</td>\n",
       "      <td>0.853682</td>\n",
       "      <td>0.0</td>\n",
       "      <td>0.0</td>\n",
       "      <td>1.0</td>\n",
       "      <td>2.0</td>\n",
       "      <td>4.0</td>\n",
       "    </tr>\n",
       "    <tr>\n",
       "      <th>stays_in_week_nights</th>\n",
       "      <td>97641.0</td>\n",
       "      <td>2.263066</td>\n",
       "      <td>1.362798</td>\n",
       "      <td>0.0</td>\n",
       "      <td>1.0</td>\n",
       "      <td>2.0</td>\n",
       "      <td>3.0</td>\n",
       "      <td>6.0</td>\n",
       "    </tr>\n",
       "    <tr>\n",
       "      <th>adults</th>\n",
       "      <td>97641.0</td>\n",
       "      <td>1.843887</td>\n",
       "      <td>0.483393</td>\n",
       "      <td>0.0</td>\n",
       "      <td>2.0</td>\n",
       "      <td>2.0</td>\n",
       "      <td>2.0</td>\n",
       "      <td>4.0</td>\n",
       "    </tr>\n",
       "    <tr>\n",
       "      <th>children</th>\n",
       "      <td>97641.0</td>\n",
       "      <td>0.077836</td>\n",
       "      <td>0.337358</td>\n",
       "      <td>0.0</td>\n",
       "      <td>0.0</td>\n",
       "      <td>0.0</td>\n",
       "      <td>0.0</td>\n",
       "      <td>3.0</td>\n",
       "    </tr>\n",
       "    <tr>\n",
       "      <th>babies</th>\n",
       "      <td>97641.0</td>\n",
       "      <td>0.006667</td>\n",
       "      <td>0.091790</td>\n",
       "      <td>0.0</td>\n",
       "      <td>0.0</td>\n",
       "      <td>0.0</td>\n",
       "      <td>0.0</td>\n",
       "      <td>10.0</td>\n",
       "    </tr>\n",
       "    <tr>\n",
       "      <th>is_repeated_guest</th>\n",
       "      <td>97641.0</td>\n",
       "      <td>0.028554</td>\n",
       "      <td>0.166549</td>\n",
       "      <td>0.0</td>\n",
       "      <td>0.0</td>\n",
       "      <td>0.0</td>\n",
       "      <td>0.0</td>\n",
       "      <td>1.0</td>\n",
       "    </tr>\n",
       "    <tr>\n",
       "      <th>previous_cancellations</th>\n",
       "      <td>97641.0</td>\n",
       "      <td>0.089972</td>\n",
       "      <td>0.797737</td>\n",
       "      <td>0.0</td>\n",
       "      <td>0.0</td>\n",
       "      <td>0.0</td>\n",
       "      <td>0.0</td>\n",
       "      <td>26.0</td>\n",
       "    </tr>\n",
       "    <tr>\n",
       "      <th>previous_bookings_not_canceled</th>\n",
       "      <td>97641.0</td>\n",
       "      <td>0.128860</td>\n",
       "      <td>1.530961</td>\n",
       "      <td>0.0</td>\n",
       "      <td>0.0</td>\n",
       "      <td>0.0</td>\n",
       "      <td>0.0</td>\n",
       "      <td>72.0</td>\n",
       "    </tr>\n",
       "    <tr>\n",
       "      <th>booking_changes</th>\n",
       "      <td>97641.0</td>\n",
       "      <td>0.201729</td>\n",
       "      <td>0.609830</td>\n",
       "      <td>0.0</td>\n",
       "      <td>0.0</td>\n",
       "      <td>0.0</td>\n",
       "      <td>0.0</td>\n",
       "      <td>18.0</td>\n",
       "    </tr>\n",
       "    <tr>\n",
       "      <th>days_in_waiting_list</th>\n",
       "      <td>97641.0</td>\n",
       "      <td>2.314642</td>\n",
       "      <td>15.224212</td>\n",
       "      <td>0.0</td>\n",
       "      <td>0.0</td>\n",
       "      <td>0.0</td>\n",
       "      <td>0.0</td>\n",
       "      <td>259.0</td>\n",
       "    </tr>\n",
       "    <tr>\n",
       "      <th>required_car_parking_spaces</th>\n",
       "      <td>97641.0</td>\n",
       "      <td>0.053195</td>\n",
       "      <td>0.228000</td>\n",
       "      <td>0.0</td>\n",
       "      <td>0.0</td>\n",
       "      <td>0.0</td>\n",
       "      <td>0.0</td>\n",
       "      <td>8.0</td>\n",
       "    </tr>\n",
       "    <tr>\n",
       "      <th>total_of_special_requests</th>\n",
       "      <td>97641.0</td>\n",
       "      <td>0.560902</td>\n",
       "      <td>0.783654</td>\n",
       "      <td>0.0</td>\n",
       "      <td>0.0</td>\n",
       "      <td>0.0</td>\n",
       "      <td>1.0</td>\n",
       "      <td>5.0</td>\n",
       "    </tr>\n",
       "    <tr>\n",
       "      <th>total_nights</th>\n",
       "      <td>97641.0</td>\n",
       "      <td>3.102426</td>\n",
       "      <td>1.739882</td>\n",
       "      <td>1.0</td>\n",
       "      <td>2.0</td>\n",
       "      <td>3.0</td>\n",
       "      <td>4.0</td>\n",
       "      <td>10.0</td>\n",
       "    </tr>\n",
       "  </tbody>\n",
       "</table>\n",
       "</div>"
      ],
      "text/plain": [
       "                                  count       mean        std  min   25%  \\\n",
       "is_canceled                     97641.0   0.375201   0.484177  0.0   0.0   \n",
       "lead_time                       97641.0  96.752839  93.045823  0.0  19.0   \n",
       "arrival_date_week_number        97641.0  26.846581  13.772847  1.0  16.0   \n",
       "arrival_date_day_of_month       97641.0  15.784455   8.754660  1.0   8.0   \n",
       "stays_in_weekend_nights         97641.0   0.839361   0.853682  0.0   0.0   \n",
       "stays_in_week_nights            97641.0   2.263066   1.362798  0.0   1.0   \n",
       "adults                          97641.0   1.843887   0.483393  0.0   2.0   \n",
       "children                        97641.0   0.077836   0.337358  0.0   0.0   \n",
       "babies                          97641.0   0.006667   0.091790  0.0   0.0   \n",
       "is_repeated_guest               97641.0   0.028554   0.166549  0.0   0.0   \n",
       "previous_cancellations          97641.0   0.089972   0.797737  0.0   0.0   \n",
       "previous_bookings_not_canceled  97641.0   0.128860   1.530961  0.0   0.0   \n",
       "booking_changes                 97641.0   0.201729   0.609830  0.0   0.0   \n",
       "days_in_waiting_list            97641.0   2.314642  15.224212  0.0   0.0   \n",
       "required_car_parking_spaces     97641.0   0.053195   0.228000  0.0   0.0   \n",
       "total_of_special_requests       97641.0   0.560902   0.783654  0.0   0.0   \n",
       "total_nights                    97641.0   3.102426   1.739882  1.0   2.0   \n",
       "\n",
       "                                 50%    75%    max  \n",
       "is_canceled                      0.0    1.0    1.0  \n",
       "lead_time                       68.0  152.0  374.0  \n",
       "arrival_date_week_number        27.0   38.0   53.0  \n",
       "arrival_date_day_of_month       16.0   23.0   31.0  \n",
       "stays_in_weekend_nights          1.0    2.0    4.0  \n",
       "stays_in_week_nights             2.0    3.0    6.0  \n",
       "adults                           2.0    2.0    4.0  \n",
       "children                         0.0    0.0    3.0  \n",
       "babies                           0.0    0.0   10.0  \n",
       "is_repeated_guest                0.0    0.0    1.0  \n",
       "previous_cancellations           0.0    0.0   26.0  \n",
       "previous_bookings_not_canceled   0.0    0.0   72.0  \n",
       "booking_changes                  0.0    0.0   18.0  \n",
       "days_in_waiting_list             0.0    0.0  259.0  \n",
       "required_car_parking_spaces      0.0    0.0    8.0  \n",
       "total_of_special_requests        0.0    1.0    5.0  \n",
       "total_nights                     3.0    4.0   10.0  "
      ]
     },
     "metadata": {},
     "output_type": "display_data"
    },
    {
     "data": {
      "text/html": [
       "<div>\n",
       "<style scoped>\n",
       "    .dataframe tbody tr th:only-of-type {\n",
       "        vertical-align: middle;\n",
       "    }\n",
       "\n",
       "    .dataframe tbody tr th {\n",
       "        vertical-align: top;\n",
       "    }\n",
       "\n",
       "    .dataframe thead th {\n",
       "        text-align: right;\n",
       "    }\n",
       "</style>\n",
       "<table border=\"1\" class=\"dataframe\">\n",
       "  <thead>\n",
       "    <tr style=\"text-align: right;\">\n",
       "      <th></th>\n",
       "      <th>count</th>\n",
       "      <th>mean</th>\n",
       "      <th>std</th>\n",
       "      <th>min</th>\n",
       "      <th>25%</th>\n",
       "      <th>50%</th>\n",
       "      <th>75%</th>\n",
       "      <th>max</th>\n",
       "    </tr>\n",
       "  </thead>\n",
       "  <tbody>\n",
       "    <tr>\n",
       "      <th>is_canceled</th>\n",
       "      <td>65229.0</td>\n",
       "      <td>0.368609</td>\n",
       "      <td>0.482431</td>\n",
       "      <td>0.0</td>\n",
       "      <td>0.0</td>\n",
       "      <td>0.0</td>\n",
       "      <td>1.0</td>\n",
       "      <td>1.0</td>\n",
       "    </tr>\n",
       "    <tr>\n",
       "      <th>lead_time</th>\n",
       "      <td>65229.0</td>\n",
       "      <td>96.337917</td>\n",
       "      <td>96.127545</td>\n",
       "      <td>0.0</td>\n",
       "      <td>17.0</td>\n",
       "      <td>64.0</td>\n",
       "      <td>151.0</td>\n",
       "      <td>374.0</td>\n",
       "    </tr>\n",
       "    <tr>\n",
       "      <th>arrival_date_week_number</th>\n",
       "      <td>65229.0</td>\n",
       "      <td>31.339772</td>\n",
       "      <td>13.464024</td>\n",
       "      <td>1.0</td>\n",
       "      <td>21.0</td>\n",
       "      <td>34.0</td>\n",
       "      <td>42.0</td>\n",
       "      <td>53.0</td>\n",
       "    </tr>\n",
       "    <tr>\n",
       "      <th>arrival_date_day_of_month</th>\n",
       "      <td>65229.0</td>\n",
       "      <td>15.847813</td>\n",
       "      <td>8.748182</td>\n",
       "      <td>1.0</td>\n",
       "      <td>8.0</td>\n",
       "      <td>16.0</td>\n",
       "      <td>23.0</td>\n",
       "      <td>31.0</td>\n",
       "    </tr>\n",
       "    <tr>\n",
       "      <th>stays_in_weekend_nights</th>\n",
       "      <td>65229.0</td>\n",
       "      <td>0.825185</td>\n",
       "      <td>0.853477</td>\n",
       "      <td>0.0</td>\n",
       "      <td>0.0</td>\n",
       "      <td>1.0</td>\n",
       "      <td>2.0</td>\n",
       "      <td>4.0</td>\n",
       "    </tr>\n",
       "    <tr>\n",
       "      <th>stays_in_week_nights</th>\n",
       "      <td>65229.0</td>\n",
       "      <td>2.224793</td>\n",
       "      <td>1.354992</td>\n",
       "      <td>0.0</td>\n",
       "      <td>1.0</td>\n",
       "      <td>2.0</td>\n",
       "      <td>3.0</td>\n",
       "      <td>6.0</td>\n",
       "    </tr>\n",
       "    <tr>\n",
       "      <th>adults</th>\n",
       "      <td>65229.0</td>\n",
       "      <td>1.836576</td>\n",
       "      <td>0.480245</td>\n",
       "      <td>0.0</td>\n",
       "      <td>2.0</td>\n",
       "      <td>2.0</td>\n",
       "      <td>2.0</td>\n",
       "      <td>4.0</td>\n",
       "    </tr>\n",
       "    <tr>\n",
       "      <th>children</th>\n",
       "      <td>65229.0</td>\n",
       "      <td>0.074890</td>\n",
       "      <td>0.334243</td>\n",
       "      <td>0.0</td>\n",
       "      <td>0.0</td>\n",
       "      <td>0.0</td>\n",
       "      <td>0.0</td>\n",
       "      <td>3.0</td>\n",
       "    </tr>\n",
       "    <tr>\n",
       "      <th>babies</th>\n",
       "      <td>65229.0</td>\n",
       "      <td>0.007236</td>\n",
       "      <td>0.098790</td>\n",
       "      <td>0.0</td>\n",
       "      <td>0.0</td>\n",
       "      <td>0.0</td>\n",
       "      <td>0.0</td>\n",
       "      <td>10.0</td>\n",
       "    </tr>\n",
       "    <tr>\n",
       "      <th>is_repeated_guest</th>\n",
       "      <td>65229.0</td>\n",
       "      <td>0.027151</td>\n",
       "      <td>0.162523</td>\n",
       "      <td>0.0</td>\n",
       "      <td>0.0</td>\n",
       "      <td>0.0</td>\n",
       "      <td>0.0</td>\n",
       "      <td>1.0</td>\n",
       "    </tr>\n",
       "    <tr>\n",
       "      <th>previous_cancellations</th>\n",
       "      <td>65229.0</td>\n",
       "      <td>0.128915</td>\n",
       "      <td>0.965326</td>\n",
       "      <td>0.0</td>\n",
       "      <td>0.0</td>\n",
       "      <td>0.0</td>\n",
       "      <td>0.0</td>\n",
       "      <td>26.0</td>\n",
       "    </tr>\n",
       "    <tr>\n",
       "      <th>previous_bookings_not_canceled</th>\n",
       "      <td>65229.0</td>\n",
       "      <td>0.107713</td>\n",
       "      <td>1.326638</td>\n",
       "      <td>0.0</td>\n",
       "      <td>0.0</td>\n",
       "      <td>0.0</td>\n",
       "      <td>0.0</td>\n",
       "      <td>58.0</td>\n",
       "    </tr>\n",
       "    <tr>\n",
       "      <th>booking_changes</th>\n",
       "      <td>65229.0</td>\n",
       "      <td>0.194269</td>\n",
       "      <td>0.593838</td>\n",
       "      <td>0.0</td>\n",
       "      <td>0.0</td>\n",
       "      <td>0.0</td>\n",
       "      <td>0.0</td>\n",
       "      <td>17.0</td>\n",
       "    </tr>\n",
       "    <tr>\n",
       "      <th>days_in_waiting_list</th>\n",
       "      <td>65229.0</td>\n",
       "      <td>3.334422</td>\n",
       "      <td>18.239606</td>\n",
       "      <td>0.0</td>\n",
       "      <td>0.0</td>\n",
       "      <td>0.0</td>\n",
       "      <td>0.0</td>\n",
       "      <td>259.0</td>\n",
       "    </tr>\n",
       "    <tr>\n",
       "      <th>required_car_parking_spaces</th>\n",
       "      <td>65229.0</td>\n",
       "      <td>0.056647</td>\n",
       "      <td>0.232094</td>\n",
       "      <td>0.0</td>\n",
       "      <td>0.0</td>\n",
       "      <td>0.0</td>\n",
       "      <td>0.0</td>\n",
       "      <td>3.0</td>\n",
       "    </tr>\n",
       "    <tr>\n",
       "      <th>total_of_special_requests</th>\n",
       "      <td>65229.0</td>\n",
       "      <td>0.512763</td>\n",
       "      <td>0.752590</td>\n",
       "      <td>0.0</td>\n",
       "      <td>0.0</td>\n",
       "      <td>0.0</td>\n",
       "      <td>1.0</td>\n",
       "      <td>5.0</td>\n",
       "    </tr>\n",
       "    <tr>\n",
       "      <th>total_nights</th>\n",
       "      <td>65229.0</td>\n",
       "      <td>3.049978</td>\n",
       "      <td>1.738108</td>\n",
       "      <td>1.0</td>\n",
       "      <td>2.0</td>\n",
       "      <td>3.0</td>\n",
       "      <td>4.0</td>\n",
       "      <td>10.0</td>\n",
       "    </tr>\n",
       "  </tbody>\n",
       "</table>\n",
       "</div>"
      ],
      "text/plain": [
       "                                  count       mean        std  min   25%  \\\n",
       "is_canceled                     65229.0   0.368609   0.482431  0.0   0.0   \n",
       "lead_time                       65229.0  96.337917  96.127545  0.0  17.0   \n",
       "arrival_date_week_number        65229.0  31.339772  13.464024  1.0  21.0   \n",
       "arrival_date_day_of_month       65229.0  15.847813   8.748182  1.0   8.0   \n",
       "stays_in_weekend_nights         65229.0   0.825185   0.853477  0.0   0.0   \n",
       "stays_in_week_nights            65229.0   2.224793   1.354992  0.0   1.0   \n",
       "adults                          65229.0   1.836576   0.480245  0.0   2.0   \n",
       "children                        65229.0   0.074890   0.334243  0.0   0.0   \n",
       "babies                          65229.0   0.007236   0.098790  0.0   0.0   \n",
       "is_repeated_guest               65229.0   0.027151   0.162523  0.0   0.0   \n",
       "previous_cancellations          65229.0   0.128915   0.965326  0.0   0.0   \n",
       "previous_bookings_not_canceled  65229.0   0.107713   1.326638  0.0   0.0   \n",
       "booking_changes                 65229.0   0.194269   0.593838  0.0   0.0   \n",
       "days_in_waiting_list            65229.0   3.334422  18.239606  0.0   0.0   \n",
       "required_car_parking_spaces     65229.0   0.056647   0.232094  0.0   0.0   \n",
       "total_of_special_requests       65229.0   0.512763   0.752590  0.0   0.0   \n",
       "total_nights                    65229.0   3.049978   1.738108  1.0   2.0   \n",
       "\n",
       "                                 50%    75%    max  \n",
       "is_canceled                      0.0    1.0    1.0  \n",
       "lead_time                       64.0  151.0  374.0  \n",
       "arrival_date_week_number        34.0   42.0   53.0  \n",
       "arrival_date_day_of_month       16.0   23.0   31.0  \n",
       "stays_in_weekend_nights          1.0    2.0    4.0  \n",
       "stays_in_week_nights             2.0    3.0    6.0  \n",
       "adults                           2.0    2.0    4.0  \n",
       "children                         0.0    0.0    3.0  \n",
       "babies                           0.0    0.0   10.0  \n",
       "is_repeated_guest                0.0    0.0    1.0  \n",
       "previous_cancellations           0.0    0.0   26.0  \n",
       "previous_bookings_not_canceled   0.0    0.0   58.0  \n",
       "booking_changes                  0.0    0.0   17.0  \n",
       "days_in_waiting_list             0.0    0.0  259.0  \n",
       "required_car_parking_spaces      0.0    0.0    3.0  \n",
       "total_of_special_requests        0.0    1.0    5.0  \n",
       "total_nights                     3.0    4.0   10.0  "
      ]
     },
     "metadata": {},
     "output_type": "display_data"
    },
    {
     "data": {
      "text/html": [
       "<div>\n",
       "<style scoped>\n",
       "    .dataframe tbody tr th:only-of-type {\n",
       "        vertical-align: middle;\n",
       "    }\n",
       "\n",
       "    .dataframe tbody tr th {\n",
       "        vertical-align: top;\n",
       "    }\n",
       "\n",
       "    .dataframe thead th {\n",
       "        text-align: right;\n",
       "    }\n",
       "</style>\n",
       "<table border=\"1\" class=\"dataframe\">\n",
       "  <thead>\n",
       "    <tr style=\"text-align: right;\">\n",
       "      <th></th>\n",
       "      <th>count</th>\n",
       "      <th>mean</th>\n",
       "      <th>std</th>\n",
       "      <th>min</th>\n",
       "      <th>25%</th>\n",
       "      <th>50%</th>\n",
       "      <th>75%</th>\n",
       "      <th>max</th>\n",
       "    </tr>\n",
       "  </thead>\n",
       "  <tbody>\n",
       "    <tr>\n",
       "      <th>is_canceled</th>\n",
       "      <td>32412.0</td>\n",
       "      <td>0.388467</td>\n",
       "      <td>0.487409</td>\n",
       "      <td>0.0</td>\n",
       "      <td>0.0</td>\n",
       "      <td>0.0</td>\n",
       "      <td>1.0</td>\n",
       "      <td>1.0</td>\n",
       "    </tr>\n",
       "    <tr>\n",
       "      <th>lead_time</th>\n",
       "      <td>32412.0</td>\n",
       "      <td>97.587869</td>\n",
       "      <td>86.507146</td>\n",
       "      <td>0.0</td>\n",
       "      <td>23.0</td>\n",
       "      <td>76.0</td>\n",
       "      <td>155.0</td>\n",
       "      <td>373.0</td>\n",
       "    </tr>\n",
       "    <tr>\n",
       "      <th>arrival_date_week_number</th>\n",
       "      <td>32412.0</td>\n",
       "      <td>17.804054</td>\n",
       "      <td>9.177384</td>\n",
       "      <td>1.0</td>\n",
       "      <td>10.0</td>\n",
       "      <td>18.0</td>\n",
       "      <td>25.0</td>\n",
       "      <td>35.0</td>\n",
       "    </tr>\n",
       "    <tr>\n",
       "      <th>arrival_date_day_of_month</th>\n",
       "      <td>32412.0</td>\n",
       "      <td>15.656948</td>\n",
       "      <td>8.766429</td>\n",
       "      <td>1.0</td>\n",
       "      <td>8.0</td>\n",
       "      <td>15.5</td>\n",
       "      <td>23.0</td>\n",
       "      <td>31.0</td>\n",
       "    </tr>\n",
       "    <tr>\n",
       "      <th>stays_in_weekend_nights</th>\n",
       "      <td>32412.0</td>\n",
       "      <td>0.867888</td>\n",
       "      <td>0.853394</td>\n",
       "      <td>0.0</td>\n",
       "      <td>0.0</td>\n",
       "      <td>1.0</td>\n",
       "      <td>2.0</td>\n",
       "      <td>4.0</td>\n",
       "    </tr>\n",
       "    <tr>\n",
       "      <th>stays_in_week_nights</th>\n",
       "      <td>32412.0</td>\n",
       "      <td>2.340090</td>\n",
       "      <td>1.375170</td>\n",
       "      <td>0.0</td>\n",
       "      <td>1.0</td>\n",
       "      <td>2.0</td>\n",
       "      <td>3.0</td>\n",
       "      <td>6.0</td>\n",
       "    </tr>\n",
       "    <tr>\n",
       "      <th>adults</th>\n",
       "      <td>32412.0</td>\n",
       "      <td>1.858602</td>\n",
       "      <td>0.489341</td>\n",
       "      <td>0.0</td>\n",
       "      <td>2.0</td>\n",
       "      <td>2.0</td>\n",
       "      <td>2.0</td>\n",
       "      <td>4.0</td>\n",
       "    </tr>\n",
       "    <tr>\n",
       "      <th>children</th>\n",
       "      <td>32412.0</td>\n",
       "      <td>0.083765</td>\n",
       "      <td>0.343470</td>\n",
       "      <td>0.0</td>\n",
       "      <td>0.0</td>\n",
       "      <td>0.0</td>\n",
       "      <td>0.0</td>\n",
       "      <td>3.0</td>\n",
       "    </tr>\n",
       "    <tr>\n",
       "      <th>babies</th>\n",
       "      <td>32412.0</td>\n",
       "      <td>0.005523</td>\n",
       "      <td>0.075757</td>\n",
       "      <td>0.0</td>\n",
       "      <td>0.0</td>\n",
       "      <td>0.0</td>\n",
       "      <td>0.0</td>\n",
       "      <td>2.0</td>\n",
       "    </tr>\n",
       "    <tr>\n",
       "      <th>is_repeated_guest</th>\n",
       "      <td>32412.0</td>\n",
       "      <td>0.031377</td>\n",
       "      <td>0.174338</td>\n",
       "      <td>0.0</td>\n",
       "      <td>0.0</td>\n",
       "      <td>0.0</td>\n",
       "      <td>0.0</td>\n",
       "      <td>1.0</td>\n",
       "    </tr>\n",
       "    <tr>\n",
       "      <th>previous_cancellations</th>\n",
       "      <td>32412.0</td>\n",
       "      <td>0.011601</td>\n",
       "      <td>0.180473</td>\n",
       "      <td>0.0</td>\n",
       "      <td>0.0</td>\n",
       "      <td>0.0</td>\n",
       "      <td>0.0</td>\n",
       "      <td>6.0</td>\n",
       "    </tr>\n",
       "    <tr>\n",
       "      <th>previous_bookings_not_canceled</th>\n",
       "      <td>32412.0</td>\n",
       "      <td>0.171418</td>\n",
       "      <td>1.875170</td>\n",
       "      <td>0.0</td>\n",
       "      <td>0.0</td>\n",
       "      <td>0.0</td>\n",
       "      <td>0.0</td>\n",
       "      <td>72.0</td>\n",
       "    </tr>\n",
       "    <tr>\n",
       "      <th>booking_changes</th>\n",
       "      <td>32412.0</td>\n",
       "      <td>0.216741</td>\n",
       "      <td>0.640551</td>\n",
       "      <td>0.0</td>\n",
       "      <td>0.0</td>\n",
       "      <td>0.0</td>\n",
       "      <td>0.0</td>\n",
       "      <td>18.0</td>\n",
       "    </tr>\n",
       "    <tr>\n",
       "      <th>days_in_waiting_list</th>\n",
       "      <td>32412.0</td>\n",
       "      <td>0.262341</td>\n",
       "      <td>4.733027</td>\n",
       "      <td>0.0</td>\n",
       "      <td>0.0</td>\n",
       "      <td>0.0</td>\n",
       "      <td>0.0</td>\n",
       "      <td>223.0</td>\n",
       "    </tr>\n",
       "    <tr>\n",
       "      <th>required_car_parking_spaces</th>\n",
       "      <td>32412.0</td>\n",
       "      <td>0.046248</td>\n",
       "      <td>0.219367</td>\n",
       "      <td>0.0</td>\n",
       "      <td>0.0</td>\n",
       "      <td>0.0</td>\n",
       "      <td>0.0</td>\n",
       "      <td>8.0</td>\n",
       "    </tr>\n",
       "    <tr>\n",
       "      <th>total_of_special_requests</th>\n",
       "      <td>32412.0</td>\n",
       "      <td>0.657781</td>\n",
       "      <td>0.834341</td>\n",
       "      <td>0.0</td>\n",
       "      <td>0.0</td>\n",
       "      <td>0.0</td>\n",
       "      <td>1.0</td>\n",
       "      <td>5.0</td>\n",
       "    </tr>\n",
       "    <tr>\n",
       "      <th>total_nights</th>\n",
       "      <td>32412.0</td>\n",
       "      <td>3.207979</td>\n",
       "      <td>1.738683</td>\n",
       "      <td>1.0</td>\n",
       "      <td>2.0</td>\n",
       "      <td>3.0</td>\n",
       "      <td>4.0</td>\n",
       "      <td>10.0</td>\n",
       "    </tr>\n",
       "  </tbody>\n",
       "</table>\n",
       "</div>"
      ],
      "text/plain": [
       "                                  count       mean        std  min   25%  \\\n",
       "is_canceled                     32412.0   0.388467   0.487409  0.0   0.0   \n",
       "lead_time                       32412.0  97.587869  86.507146  0.0  23.0   \n",
       "arrival_date_week_number        32412.0  17.804054   9.177384  1.0  10.0   \n",
       "arrival_date_day_of_month       32412.0  15.656948   8.766429  1.0   8.0   \n",
       "stays_in_weekend_nights         32412.0   0.867888   0.853394  0.0   0.0   \n",
       "stays_in_week_nights            32412.0   2.340090   1.375170  0.0   1.0   \n",
       "adults                          32412.0   1.858602   0.489341  0.0   2.0   \n",
       "children                        32412.0   0.083765   0.343470  0.0   0.0   \n",
       "babies                          32412.0   0.005523   0.075757  0.0   0.0   \n",
       "is_repeated_guest               32412.0   0.031377   0.174338  0.0   0.0   \n",
       "previous_cancellations          32412.0   0.011601   0.180473  0.0   0.0   \n",
       "previous_bookings_not_canceled  32412.0   0.171418   1.875170  0.0   0.0   \n",
       "booking_changes                 32412.0   0.216741   0.640551  0.0   0.0   \n",
       "days_in_waiting_list            32412.0   0.262341   4.733027  0.0   0.0   \n",
       "required_car_parking_spaces     32412.0   0.046248   0.219367  0.0   0.0   \n",
       "total_of_special_requests       32412.0   0.657781   0.834341  0.0   0.0   \n",
       "total_nights                    32412.0   3.207979   1.738683  1.0   2.0   \n",
       "\n",
       "                                 50%    75%    max  \n",
       "is_canceled                      0.0    1.0    1.0  \n",
       "lead_time                       76.0  155.0  373.0  \n",
       "arrival_date_week_number        18.0   25.0   35.0  \n",
       "arrival_date_day_of_month       15.5   23.0   31.0  \n",
       "stays_in_weekend_nights          1.0    2.0    4.0  \n",
       "stays_in_week_nights             2.0    3.0    6.0  \n",
       "adults                           2.0    2.0    4.0  \n",
       "children                         0.0    0.0    3.0  \n",
       "babies                           0.0    0.0    2.0  \n",
       "is_repeated_guest                0.0    0.0    1.0  \n",
       "previous_cancellations           0.0    0.0    6.0  \n",
       "previous_bookings_not_canceled   0.0    0.0   72.0  \n",
       "booking_changes                  0.0    0.0   18.0  \n",
       "days_in_waiting_list             0.0    0.0  223.0  \n",
       "required_car_parking_spaces      0.0    0.0    8.0  \n",
       "total_of_special_requests        0.0    1.0    5.0  \n",
       "total_nights                     3.0    4.0   10.0  "
      ]
     },
     "metadata": {},
     "output_type": "display_data"
    }
   ],
   "source": [
    "display(concat.describe().T)\n",
    "for data in data_list:\n",
    "    display(data.describe().T)"
   ]
  },
  {
   "cell_type": "markdown",
   "id": "b94cee19-9898-4b43-95fb-e6f7bcf97f79",
   "metadata": {
    "jp-MarkdownHeadingCollapsed": true,
    "tags": []
   },
   "source": [
    "Можно сделать следующие выводы:\n",
    "- наблюдается дисбаланс классов, как по общим, так и в отдельности по датафреймам;\n",
    "- наблюдаются выбросы в данных в столбце lead_time (количество дней между датой бронирования и датой прибытия);\n",
    "- в столбце adults (количество взрослых постояльцев) минимальное значение 0, скорее всего ошибка в данных;\n",
    "- в столбце babies (количество младенцев) максимальное значение 10, необходимо поверить на корректность данных;\n",
    "- в столбце required_car_parking_space максимальное значение 8, также необходимо поверить на корректность данных.\n",
    "\n",
    "Учтем указанные выше моменты в дальнейшем."
   ]
  },
  {
   "cell_type": "markdown",
   "id": "99622154-4eef-4fba-ad02-1f688b23fd76",
   "metadata": {},
   "source": [
    "Столбец total_nights отражает общее количество проведенных ночей, еще этот столбец разбивается на два столбца stays_in_weekend_nights и stays_in_week_nights, общая сумма эти двух столбцов должна биться со столбцом total_nights, проверим."
   ]
  },
  {
   "cell_type": "code",
   "execution_count": 19,
   "id": "cd0853c4-504f-4f8a-9f9a-554277a90be2",
   "metadata": {},
   "outputs": [
    {
     "data": {
      "text/html": [
       "<div>\n",
       "<style scoped>\n",
       "    .dataframe tbody tr th:only-of-type {\n",
       "        vertical-align: middle;\n",
       "    }\n",
       "\n",
       "    .dataframe tbody tr th {\n",
       "        vertical-align: top;\n",
       "    }\n",
       "\n",
       "    .dataframe thead th {\n",
       "        text-align: right;\n",
       "    }\n",
       "</style>\n",
       "<table border=\"1\" class=\"dataframe\">\n",
       "  <thead>\n",
       "    <tr style=\"text-align: right;\">\n",
       "      <th></th>\n",
       "      <th>is_canceled</th>\n",
       "      <th>lead_time</th>\n",
       "      <th>arrival_date_month</th>\n",
       "      <th>arrival_date_week_number</th>\n",
       "      <th>arrival_date_day_of_month</th>\n",
       "      <th>stays_in_weekend_nights</th>\n",
       "      <th>stays_in_week_nights</th>\n",
       "      <th>adults</th>\n",
       "      <th>children</th>\n",
       "      <th>babies</th>\n",
       "      <th>meal</th>\n",
       "      <th>country</th>\n",
       "      <th>distribution_channel</th>\n",
       "      <th>is_repeated_guest</th>\n",
       "      <th>previous_cancellations</th>\n",
       "      <th>previous_bookings_not_canceled</th>\n",
       "      <th>reserved_room_type</th>\n",
       "      <th>booking_changes</th>\n",
       "      <th>days_in_waiting_list</th>\n",
       "      <th>customer_type</th>\n",
       "      <th>required_car_parking_spaces</th>\n",
       "      <th>total_of_special_requests</th>\n",
       "      <th>total_nights</th>\n",
       "    </tr>\n",
       "  </thead>\n",
       "  <tbody>\n",
       "  </tbody>\n",
       "</table>\n",
       "</div>"
      ],
      "text/plain": [
       "Empty DataFrame\n",
       "Columns: [is_canceled, lead_time, arrival_date_month, arrival_date_week_number, arrival_date_day_of_month, stays_in_weekend_nights, stays_in_week_nights, adults, children, babies, meal, country, distribution_channel, is_repeated_guest, previous_cancellations, previous_bookings_not_canceled, reserved_room_type, booking_changes, days_in_waiting_list, customer_type, required_car_parking_spaces, total_of_special_requests, total_nights]\n",
       "Index: []"
      ]
     },
     "metadata": {},
     "output_type": "display_data"
    },
    {
     "data": {
      "text/html": [
       "<div>\n",
       "<style scoped>\n",
       "    .dataframe tbody tr th:only-of-type {\n",
       "        vertical-align: middle;\n",
       "    }\n",
       "\n",
       "    .dataframe tbody tr th {\n",
       "        vertical-align: top;\n",
       "    }\n",
       "\n",
       "    .dataframe thead th {\n",
       "        text-align: right;\n",
       "    }\n",
       "</style>\n",
       "<table border=\"1\" class=\"dataframe\">\n",
       "  <thead>\n",
       "    <tr style=\"text-align: right;\">\n",
       "      <th></th>\n",
       "      <th>is_canceled</th>\n",
       "      <th>lead_time</th>\n",
       "      <th>arrival_date_month</th>\n",
       "      <th>arrival_date_week_number</th>\n",
       "      <th>arrival_date_day_of_month</th>\n",
       "      <th>stays_in_weekend_nights</th>\n",
       "      <th>stays_in_week_nights</th>\n",
       "      <th>adults</th>\n",
       "      <th>children</th>\n",
       "      <th>babies</th>\n",
       "      <th>meal</th>\n",
       "      <th>country</th>\n",
       "      <th>distribution_channel</th>\n",
       "      <th>is_repeated_guest</th>\n",
       "      <th>previous_cancellations</th>\n",
       "      <th>previous_bookings_not_canceled</th>\n",
       "      <th>reserved_room_type</th>\n",
       "      <th>booking_changes</th>\n",
       "      <th>days_in_waiting_list</th>\n",
       "      <th>customer_type</th>\n",
       "      <th>required_car_parking_spaces</th>\n",
       "      <th>total_of_special_requests</th>\n",
       "      <th>total_nights</th>\n",
       "    </tr>\n",
       "  </thead>\n",
       "  <tbody>\n",
       "  </tbody>\n",
       "</table>\n",
       "</div>"
      ],
      "text/plain": [
       "Empty DataFrame\n",
       "Columns: [is_canceled, lead_time, arrival_date_month, arrival_date_week_number, arrival_date_day_of_month, stays_in_weekend_nights, stays_in_week_nights, adults, children, babies, meal, country, distribution_channel, is_repeated_guest, previous_cancellations, previous_bookings_not_canceled, reserved_room_type, booking_changes, days_in_waiting_list, customer_type, required_car_parking_spaces, total_of_special_requests, total_nights]\n",
       "Index: []"
      ]
     },
     "metadata": {},
     "output_type": "display_data"
    }
   ],
   "source": [
    "display(train[(train[\"stays_in_weekend_nights\"] + train[\"stays_in_week_nights\"]) != train[\"total_nights\"]])\n",
    "display(test[(test[\"stays_in_weekend_nights\"] + test[\"stays_in_week_nights\"]) != test[\"total_nights\"]])"
   ]
  },
  {
   "cell_type": "markdown",
   "id": "9640b232-ffd5-4270-9b71-1c5027ecb521",
   "metadata": {},
   "source": [
    "Все корректно, идем дальше. Проверим записи на наличие в них нулей для информации о количестве взрослых постояльцев."
   ]
  },
  {
   "cell_type": "code",
   "execution_count": 20,
   "id": "1d339309-5ff5-4703-8617-24215d38ff9c",
   "metadata": {},
   "outputs": [
    {
     "name": "stdout",
     "output_type": "stream",
     "text": [
      "166\n",
      "69\n"
     ]
    }
   ],
   "source": [
    "print(train[train[\"adults\"]==0].shape[0])\n",
    "print(test[test[\"adults\"]==0].shape[0])"
   ]
  },
  {
   "cell_type": "markdown",
   "id": "4c0e756f-e447-49ef-80d3-517c331fabdd",
   "metadata": {},
   "source": [
    "Таких записей не мало, без взрослых постояльцев номера не бронируются, удалим эти записи."
   ]
  },
  {
   "cell_type": "code",
   "execution_count": 21,
   "id": "98c2b8c7-469e-49f6-9e39-0db6ae792495",
   "metadata": {},
   "outputs": [],
   "source": [
    "train.drop(train[train[\"adults\"]==0].index, inplace=True)\n",
    "test.drop(test[test[\"adults\"]==0].index, inplace=True)"
   ]
  },
  {
   "cell_type": "code",
   "execution_count": 22,
   "id": "0f5d845a-077c-4a80-ae16-87c9ddc1a5af",
   "metadata": {},
   "outputs": [
    {
     "name": "stdout",
     "output_type": "stream",
     "text": [
      "0\n",
      "0\n"
     ]
    }
   ],
   "source": [
    "print(train[train[\"adults\"]==0].shape[0])\n",
    "print(test[test[\"adults\"]==0].shape[0])"
   ]
  },
  {
   "cell_type": "code",
   "execution_count": 23,
   "id": "eba6764a-4fd2-4672-bedf-c46549dd4eba",
   "metadata": {},
   "outputs": [
    {
     "name": "stdout",
     "output_type": "stream",
     "text": [
      "0.0    61697\n",
      "1.0     2163\n",
      "2.0     1195\n",
      "3.0        8\n",
      "Name: children, dtype: int64\n",
      "0.0    30353\n",
      "1.0     1392\n",
      "2.0      595\n",
      "3.0        3\n",
      "Name: children, dtype: int64\n"
     ]
    }
   ],
   "source": [
    "print(train[\"children\"].value_counts())\n",
    "print(test[\"children\"].value_counts())"
   ]
  },
  {
   "cell_type": "markdown",
   "id": "d9b82289-40a1-45d1-9c56-94ccaedb0514",
   "metadata": {},
   "source": [
    "В большинстве своем посетители без детей в возрасте от 3 до 14 лет, данные корректные, менять ничего не будем."
   ]
  },
  {
   "cell_type": "code",
   "execution_count": 24,
   "id": "49b7f6e5-4de6-4cbe-beb6-120f769fba1e",
   "metadata": {},
   "outputs": [
    {
     "name": "stdout",
     "output_type": "stream",
     "text": [
      "0.0     64614\n",
      "1.0       444\n",
      "2.0         3\n",
      "10.0        1\n",
      "9.0         1\n",
      "Name: babies, dtype: int64\n",
      "0.0    32168\n",
      "1.0      171\n",
      "2.0        4\n",
      "Name: babies, dtype: int64\n"
     ]
    }
   ],
   "source": [
    "print(train[\"babies\"].value_counts())\n",
    "print(test[\"babies\"].value_counts())"
   ]
  },
  {
   "cell_type": "markdown",
   "id": "0de70b55-4c3d-4ff1-8fc8-b0c4b698470b",
   "metadata": {},
   "source": [
    "Сложно представить посетителей с 10 младенцами, в основном все без младенцев, сделаем этот столбец бинарным. "
   ]
  },
  {
   "cell_type": "code",
   "execution_count": 25,
   "id": "d75f1136-4e61-4beb-8f3d-2c40c5582771",
   "metadata": {},
   "outputs": [
    {
     "name": "stdout",
     "output_type": "stream",
     "text": [
      "0.0    64614\n",
      "1.0      449\n",
      "Name: babies, dtype: int64\n",
      "0.0    32168\n",
      "1.0      175\n",
      "Name: babies, dtype: int64\n"
     ]
    }
   ],
   "source": [
    "train.loc[train[\"babies\"] > 1, \"babies\"] = 1\n",
    "test.loc[test[\"babies\"] > 1, \"babies\"] = 1\n",
    "print(train[\"babies\"].value_counts())\n",
    "print(test[\"babies\"].value_counts())"
   ]
  },
  {
   "cell_type": "code",
   "execution_count": 26,
   "id": "57dc2ee1-ccb1-4620-ad07-c2b5b5802a71",
   "metadata": {},
   "outputs": [
    {
     "name": "stdout",
     "output_type": "stream",
     "text": [
      "0    61383\n",
      "1     3668\n",
      "2       11\n",
      "3        1\n",
      "Name: required_car_parking_spaces, dtype: int64\n",
      "0    30868\n",
      "1     1466\n",
      "2        6\n",
      "8        2\n",
      "3        1\n",
      "Name: required_car_parking_spaces, dtype: int64\n"
     ]
    }
   ],
   "source": [
    "print(train[\"required_car_parking_spaces\"].value_counts())\n",
    "print(test[\"required_car_parking_spaces\"].value_counts())"
   ]
  },
  {
   "cell_type": "markdown",
   "id": "a9f49d08-bb9d-452c-a268-b71f8095ee79",
   "metadata": {},
   "source": [
    "Аналогично, сделаем этот столбец тоже бинарным. "
   ]
  },
  {
   "cell_type": "code",
   "execution_count": 27,
   "id": "0c3c1a7a-09f5-4769-bc21-922729bfd6cc",
   "metadata": {},
   "outputs": [
    {
     "name": "stdout",
     "output_type": "stream",
     "text": [
      "0    61383\n",
      "1     3680\n",
      "Name: required_car_parking_spaces, dtype: int64\n",
      "0    30868\n",
      "1     1475\n",
      "Name: required_car_parking_spaces, dtype: int64\n"
     ]
    }
   ],
   "source": [
    "train.loc[train[\"required_car_parking_spaces\"] > 1, \"required_car_parking_spaces\"] = 1\n",
    "test.loc[test[\"required_car_parking_spaces\"] > 1, \"required_car_parking_spaces\"] = 1\n",
    "print(train[\"required_car_parking_spaces\"].value_counts())\n",
    "print(test[\"required_car_parking_spaces\"].value_counts())"
   ]
  },
  {
   "cell_type": "markdown",
   "id": "4ef3b078-91ea-47c6-8ad7-fb19c74866ee",
   "metadata": {},
   "source": [
    "Обновим индексы."
   ]
  },
  {
   "cell_type": "code",
   "execution_count": 28,
   "id": "45633ef8-e8ef-489c-b30f-813e83da3d4d",
   "metadata": {},
   "outputs": [],
   "source": [
    "train.reset_index(drop=True, inplace=True)\n",
    "test.reset_index(drop=True, inplace=True)"
   ]
  },
  {
   "cell_type": "markdown",
   "id": "93e13041-5869-4a34-b2e4-79ec897ef8b1",
   "metadata": {},
   "source": [
    "Посмотрим на распределение количественных данных на графиках."
   ]
  },
  {
   "cell_type": "code",
   "execution_count": 29,
   "id": "cf5a7287-d02e-4e1a-975c-30da18dd33f7",
   "metadata": {},
   "outputs": [
    {
     "data": {
      "image/png": "[encoded data removed]",
      "text/plain": [
       "<Figure size 720x288 with 1 Axes>"
      ]
     },
     "metadata": {
      "needs_background": "light"
     },
     "output_type": "display_data"
    },
    {
     "data": {
      "image/png": "[encoded data removed]",
      "text/plain": [
       "<Figure size 720x288 with 1 Axes>"
      ]
     },
     "metadata": {
      "needs_background": "light"
     },
     "output_type": "display_data"
    },
    {
     "data": {
      "image/png": "[encoded data removed]",
      "text/plain": [
       "<Figure size 720x288 with 1 Axes>"
      ]
     },
     "metadata": {
      "needs_background": "light"
     },
     "output_type": "display_data"
    },
    {
     "data": {
      "image/png": "[encoded data removed]",
      "text/plain": [
       "<Figure size 720x288 with 1 Axes>"
      ]
     },
     "metadata": {
      "needs_background": "light"
     },
     "output_type": "display_data"
    },
    {
     "data": {
      "image/png": "[encoded data removed]",
      "text/plain": [
       "<Figure size 720x288 with 1 Axes>"
      ]
     },
     "metadata": {
      "needs_background": "light"
     },
     "output_type": "display_data"
    },
    {
     "data": {
      "image/png": "[encoded data removed]",
      "text/plain": [
       "<Figure size 720x288 with 1 Axes>"
      ]
     },
     "metadata": {
      "needs_background": "light"
     },
     "output_type": "display_data"
    },
    {
     "data": {
      "image/png": "[encoded data removed]",
      "text/plain": [
       "<Figure size 720x288 with 1 Axes>"
      ]
     },
     "metadata": {
      "needs_background": "light"
     },
     "output_type": "display_data"
    },
    {
     "data": {
      "image/png": "[encoded data removed]",
      "text/plain": [
       "<Figure size 720x288 with 1 Axes>"
      ]
     },
     "metadata": {
      "needs_background": "light"
     },
     "output_type": "display_data"
    },
    {
     "data": {
      "image/png": "[encoded data removed]",
      "text/plain": [
       "<Figure size 720x288 with 1 Axes>"
      ]
     },
     "metadata": {
      "needs_background": "light"
     },
     "output_type": "display_data"
    },
    {
     "data": {
      "image/png": "[encoded data removed]",
      "text/plain": [
       "<Figure size 720x288 with 1 Axes>"
      ]
     },
     "metadata": {
      "needs_background": "light"
     },
     "output_type": "display_data"
    },
    {
     "data": {
      "image/png": "[encoded data removed]",
      "text/plain": [
       "<Figure size 720x288 with 1 Axes>"
      ]
     },
     "metadata": {
      "needs_background": "light"
     },
     "output_type": "display_data"
    },
    {
     "data": {
      "image/png": "[encoded data removed]",
      "text/plain": [
       "<Figure size 720x288 with 1 Axes>"
      ]
     },
     "metadata": {
      "needs_background": "light"
     },
     "output_type": "display_data"
    },
    {
     "data": {
      "image/png": "[encoded data removed]",
      "text/plain": [
       "<Figure size 720x288 with 1 Axes>"
      ]
     },
     "metadata": {
      "needs_background": "light"
     },
     "output_type": "display_data"
    },
    {
     "data": {
      "image/png": "[encoded data removed]",
      "text/plain": [
       "<Figure size 720x288 with 1 Axes>"
      ]
     },
     "metadata": {
      "needs_background": "light"
     },
     "output_type": "display_data"
    },
    {
     "data": {
      "image/png": "[encoded data removed]",
      "text/plain": [
       "<Figure size 720x288 with 1 Axes>"
      ]
     },
     "metadata": {
      "needs_background": "light"
     },
     "output_type": "display_data"
    },
    {
     "data": {
      "image/png": "[encoded data removed]",
      "text/plain": [
       "<Figure size 720x288 with 1 Axes>"
      ]
     },
     "metadata": {
      "needs_background": "light"
     },
     "output_type": "display_data"
    },
    {
     "data": {
      "image/png": "[encoded data removed]",
      "text/plain": [
       "<Figure size 720x288 with 1 Axes>"
      ]
     },
     "metadata": {
      "needs_background": "light"
     },
     "output_type": "display_data"
    }
   ],
   "source": [
    "for num in concat.select_dtypes(include=[\"int\", \"float\"]).columns:\n",
    "    plt.subplots(1, figsize=(10, 4))\n",
    "    sns.kdeplot(concat[num], color=\"green\", multiple=\"stack\")\n",
    "    plt.show()"
   ]
  },
  {
   "cell_type": "markdown",
   "id": "69eed79c-c7b9-4d38-b8d4-78b66824acbb",
   "metadata": {},
   "source": [
    "**Выводы**\n",
    "\n",
    "По итогам предобработки данных обнаржены и устранены не унифицированные значения категориальных переменных и другие аномалии и артефакты. Обнаружено много дубликатов, которые решено было оставить как есть.\n",
    "\n",
    "В результате разведочного анализа данных можно сделать следующие выводы:\n",
    "- дисбаланс классов на лицо, больше подтверждений брони, чем отмен;\n",
    "- наиболее популярный месяц для бронивания - май;\n",
    "- чаще всего клиенты прибывают в отель из Португалии;\n",
    "- больше всего клиенты предпочитают питание - только завтраки и самые дорогие номера;\n",
    "- самый популярный тип клиента Transient - индивидуальные заезды;\n",
    "- lead_time (количество дней между датой бронирования и датой прибытия) с длинным хвостом, в данных есть выбросы, однако удалять эти данные пока не будем;\n",
    "- начало и конец года менее популярны для путешествий, поэтому бронирований у отеля в эти недели намного меньше;\n",
    "- первые и последние числа месяца также менее популярны для бронирования;\n",
    "- большинство захватывают от 1 до 3 будних и от 0 до 2 выходных дней;\n",
    "- как правило, бронирование включает двух взрослых постояльцев, стоит подметить, что отели могут не принимают одиноких мужчин, но принять женщин;\n",
    "- взрослые постояльцы, как правило, бронируют отель без детей в возрасте от 3 до 14 лет и младенцев;\n",
    "- большинство в отеле впервые, что логично, мало кто регулярно отдыхает в одном и том же отеле;\n",
    "- клиенты, как правило, не отменяют брони, но и есть те, кто отменяют, их доля значительно меньше;\n",
    "- клиенты не вносят изменения в условия брони, доля клиентов запросивщих изменения изначальных условий бронирования значительно ниже;\n",
    "- большая часть клиентов не попадают в лист ожидания, но есть и те, кто по 100-150 дней ожидают свое бронирование, что очень странно;\n",
    "- как правило парковочное место не запрашивается;\n",
    "- количество специальных отметок, в основном, варьируется от 0 до 2;\n",
    "- постояльцы, как правило, берут номера общим сроком до 5 дней."
   ]
  },
  {
   "cell_type": "markdown",
   "id": "e75c8548-9dc8-4006-8fb8-75bc83a18fe8",
   "metadata": {},
   "source": [
    "[В начало](#intro)"
   ]
  },
  {
   "cell_type": "markdown",
   "id": "7a7fe253-1fcc-46c5-9236-8ad620a7edd1",
   "metadata": {
    "tags": []
   },
   "source": [
    "## Формулировка ML-задачи на основе бизнес-задачи"
   ]
  },
  {
   "cell_type": "markdown",
   "id": "f9988d0f-3916-4f37-a145-237952b9ff52",
   "metadata": {},
   "source": [
    "Для удобства расчета прибыли сделаем словари со стоимостью самого номера, обслуживания и сезонного коэффициента."
   ]
  },
  {
   "cell_type": "code",
   "execution_count": 30,
   "id": "364a51b1-ddcf-40c4-aee4-a145659af6c9",
   "metadata": {
    "tags": []
   },
   "outputs": [],
   "source": [
    "room_prices = {\n",
    "    \"A\": [1000, 400],\n",
    "    \"B\": [800, 350],\n",
    "    \"C\": [600, 350],\n",
    "    \"D\": [550, 150],\n",
    "    \"E\": [500, 150],\n",
    "    \"F\": [450, 150],\n",
    "    \"G\": [350, 150]\n",
    "                    }\n",
    "\n",
    "season_coeff = {\n",
    "    \"December\": 1.0,\n",
    "    \"January\": 1.0,\n",
    "    \"February\": 1.0,\n",
    "    \"March\": 1.2,\n",
    "    \"April\": 1.2,\n",
    "    \"May\": 1.2,\n",
    "    \"June\": 1.4,\n",
    "    \"July\": 1.4,\n",
    "    \"August\": 1.4,\n",
    "    \"September\": 1.2,\n",
    "    \"October\": 1.2,\n",
    "    \"November\": 1.2\n",
    "}"
   ]
  },
  {
   "cell_type": "markdown",
   "id": "ab4c8d3e-cc47-4dc0-a896-96b8a1e636ea",
   "metadata": {},
   "source": [
    "Напишем функцию расчета прибыли без учета системы депозитов, все клиенты могут бронировать номера без предоплаты."
   ]
  },
  {
   "cell_type": "code",
   "execution_count": 31,
   "id": "297452e8-7ac2-460b-bd8d-d3c06a38905a",
   "metadata": {},
   "outputs": [],
   "source": [
    "def set_profit(row):\n",
    "    if row[\"is_canceled\"] == 0:\n",
    "        return ((room_prices[row[\"reserved_room_type\"]][0]  \n",
    "                * season_coeff[row[\"arrival_date_month\"]] \n",
    "                * row[\"total_nights\"])\n",
    "                - (room_prices[row[\"reserved_room_type\"]][1] \n",
    "                * (1 + row[\"total_nights\"] // 2)))\n",
    "\n",
    "    else:\n",
    "        return ((room_prices[row[\"reserved_room_type\"]][0] \n",
    "                * season_coeff[row[\"arrival_date_month\"]])\n",
    "                + room_prices[row[\"reserved_room_type\"]][1]) *-1"
   ]
  },
  {
   "cell_type": "code",
   "execution_count": 32,
   "id": "dd1d663a-0fe2-4f4e-a893-b1ccca0c8e3d",
   "metadata": {},
   "outputs": [
    {
     "name": "stdout",
     "output_type": "stream",
     "text": [
      "Прибыль на тестовой выборке до внедрения ML, руб.: 32510590.0\n",
      "Убыток на тестовой выборке до внедрения ML, руб.: -18000470.0\n"
     ]
    }
   ],
   "source": [
    "profit_before = test.apply(set_profit, axis=1)\n",
    "print(\"Прибыль на тестовой выборке до внедрения ML, руб.:\", profit_before.sum())\n",
    "print(\"Убыток на тестовой выборке до внедрения ML, руб.:\", profit_before[profit_before<0].sum())"
   ]
  },
  {
   "cell_type": "markdown",
   "id": "60611369-1426-4ca6-8655-bb45bdc8f2a8",
   "metadata": {},
   "source": [
    "**Выводы:**\n",
    "\n",
    "Если внедрить возможность бронирования без предоплаты для всех, отель потреяет значительные суммы прибыль, поэтому нужна система депозитов."
   ]
  },
  {
   "cell_type": "markdown",
   "id": "3fb13a65-9cad-491a-9328-eb6a44f9fb15",
   "metadata": {},
   "source": [
    "[В начало](#intro)"
   ]
  },
  {
   "cell_type": "markdown",
   "id": "5b24e114-e3d1-467d-bfed-947c1c35ce00",
   "metadata": {
    "tags": []
   },
   "source": [
    "## Разработка модели ML"
   ]
  },
  {
   "cell_type": "markdown",
   "id": "5db47972-23fe-4916-be7d-c6e046ad73cb",
   "metadata": {},
   "source": [
    "Перед началом разработки модели укрупним категоризацию столбца со странами. "
   ]
  },
  {
   "cell_type": "code",
   "execution_count": 33,
   "id": "7a53748e-72b8-4001-9c76-9531c0768062",
   "metadata": {
    "tags": []
   },
   "outputs": [],
   "source": [
    "country_cat = [] # создадим пустой список\n",
    "\n",
    "for index, row in concat[\"country\"].value_counts().reset_index().iterrows(): # посчитает количества броней по странам\n",
    "    if row[\"country\"] > 1000: # если количество брони > 1000\n",
    "        country_cat.append(row[\"index\"]) # добавим эту страну в наш список \n",
    "        \n",
    "for data in data_list: # для обучающего и тестового набора\n",
    "    for index, row in data.iterrows():\n",
    "        if row[\"country\"] in country_cat: # если страна есть в нашем списке, ничего не меняем\n",
    "            data.loc[index, \"country_cat\"] = row[\"country\"]\n",
    "        else:\n",
    "            data.loc[index, \"country_cat\"] = \"other\" # для остальных пишем other"
   ]
  },
  {
   "cell_type": "markdown",
   "id": "01afe68f-3673-4f3b-8045-a2f7ee3c28eb",
   "metadata": {},
   "source": [
    "Удалим прежние столбцы со странами."
   ]
  },
  {
   "cell_type": "code",
   "execution_count": 34,
   "id": "ba9601b3-5046-4b67-a966-3a331fae30f8",
   "metadata": {},
   "outputs": [],
   "source": [
    "train = train.drop(\"country\", axis=1)\n",
    "test = test.drop(\"country\", axis=1)"
   ]
  },
  {
   "cell_type": "markdown",
   "id": "75d898cd-fb58-4cfd-ad13-1ef5af6deadf",
   "metadata": {},
   "source": [
    "Чтобы не портить наши выборки спокируем их в новые переменные, они нам еще пригодятся."
   ]
  },
  {
   "cell_type": "code",
   "execution_count": 35,
   "id": "d80b706d-341a-47a0-bd55-cf182797ec84",
   "metadata": {},
   "outputs": [],
   "source": [
    "train_data = train.copy()\n",
    "test_data = test.copy()"
   ]
  },
  {
   "cell_type": "markdown",
   "id": "7c4f3dbb-c4e2-40a6-8e6f-0c2afd007c82",
   "metadata": {},
   "source": [
    "Соберем названия количественных и категориальных переменных в листы."
   ]
  },
  {
   "cell_type": "code",
   "execution_count": 36,
   "id": "64abc3ec-54e1-4c7d-b752-0c5e06d22d07",
   "metadata": {},
   "outputs": [],
   "source": [
    "numeric = train_data.select_dtypes(include=[\"int\",\"float\"]).columns\n",
    "non_numeric = train_data.select_dtypes(include=[\"object\"]).columns"
   ]
  },
  {
   "cell_type": "markdown",
   "id": "1447ee2c-1417-4880-bf5c-9524c40f7f15",
   "metadata": {},
   "source": [
    "Для некоторых моделей будем исполовать порядковое кодирование категориальных переменных в количественные."
   ]
  },
  {
   "cell_type": "code",
   "execution_count": 37,
   "id": "c9e16c3d-3ae2-4d54-b9f9-7567c5777b2d",
   "metadata": {},
   "outputs": [
    {
     "data": {
      "text/html": [
       "<style>#sk-container-id-1 {color: black;background-color: white;}#sk-container-id-1 pre{padding: 0;}#sk-container-id-1 div.sk-toggleable {background-color: white;}#sk-container-id-1 label.sk-toggleable__label {cursor: pointer;display: block;width: 100%;margin-bottom: 0;padding: 0.3em;box-sizing: border-box;text-align: center;}#sk-container-id-1 label.sk-toggleable__label-arrow:before {content: \"▸\";float: left;margin-right: 0.25em;color: #696969;}#sk-container-id-1 label.sk-toggleable__label-arrow:hover:before {color: black;}#sk-container-id-1 div.sk-estimator:hover label.sk-toggleable__label-arrow:before {color: black;}#sk-container-id-1 div.sk-toggleable__content {max-height: 0;max-width: 0;overflow: hidden;text-align: left;background-color: #f0f8ff;}#sk-container-id-1 div.sk-toggleable__content pre {margin: 0.2em;color: black;border-radius: 0.25em;background-color: #f0f8ff;}#sk-container-id-1 input.sk-toggleable__control:checked~div.sk-toggleable__content {max-height: 200px;max-width: 100%;overflow: auto;}#sk-container-id-1 input.sk-toggleable__control:checked~label.sk-toggleable__label-arrow:before {content: \"▾\";}#sk-container-id-1 div.sk-estimator input.sk-toggleable__control:checked~label.sk-toggleable__label {background-color: #d4ebff;}#sk-container-id-1 div.sk-label input.sk-toggleable__control:checked~label.sk-toggleable__label {background-color: #d4ebff;}#sk-container-id-1 input.sk-hidden--visually {border: 0;clip: rect(1px 1px 1px 1px);clip: rect(1px, 1px, 1px, 1px);height: 1px;margin: -1px;overflow: hidden;padding: 0;position: absolute;width: 1px;}#sk-container-id-1 div.sk-estimator {font-family: monospace;background-color: #f0f8ff;border: 1px dotted black;border-radius: 0.25em;box-sizing: border-box;margin-bottom: 0.5em;}#sk-container-id-1 div.sk-estimator:hover {background-color: #d4ebff;}#sk-container-id-1 div.sk-parallel-item::after {content: \"\";width: 100%;border-bottom: 1px solid gray;flex-grow: 1;}#sk-container-id-1 div.sk-label:hover label.sk-toggleable__label {background-color: #d4ebff;}#sk-container-id-1 div.sk-serial::before {content: \"\";position: absolute;border-left: 1px solid gray;box-sizing: border-box;top: 0;bottom: 0;left: 50%;z-index: 0;}#sk-container-id-1 div.sk-serial {display: flex;flex-direction: column;align-items: center;background-color: white;padding-right: 0.2em;padding-left: 0.2em;position: relative;}#sk-container-id-1 div.sk-item {position: relative;z-index: 1;}#sk-container-id-1 div.sk-parallel {display: flex;align-items: stretch;justify-content: center;background-color: white;position: relative;}#sk-container-id-1 div.sk-item::before, #sk-container-id-1 div.sk-parallel-item::before {content: \"\";position: absolute;border-left: 1px solid gray;box-sizing: border-box;top: 0;bottom: 0;left: 50%;z-index: -1;}#sk-container-id-1 div.sk-parallel-item {display: flex;flex-direction: column;z-index: 1;position: relative;background-color: white;}#sk-container-id-1 div.sk-parallel-item:first-child::after {align-self: flex-end;width: 50%;}#sk-container-id-1 div.sk-parallel-item:last-child::after {align-self: flex-start;width: 50%;}#sk-container-id-1 div.sk-parallel-item:only-child::after {width: 0;}#sk-container-id-1 div.sk-dashed-wrapped {border: 1px dashed gray;margin: 0 0.4em 0.5em 0.4em;box-sizing: border-box;padding-bottom: 0.4em;background-color: white;}#sk-container-id-1 div.sk-label label {font-family: monospace;font-weight: bold;display: inline-block;line-height: 1.2em;}#sk-container-id-1 div.sk-label-container {text-align: center;}#sk-container-id-1 div.sk-container {/* jupyter's `normalize.less` sets `[hidden] { display: none; }` but bootstrap.min.css set `[hidden] { display: none !important; }` so we also need the `!important` here to be able to override the default hidden behavior on the sphinx rendered scikit-learn.org. See: https://github.com/scikit-learn/scikit-learn/issues/21755 */display: inline-block !important;position: relative;}#sk-container-id-1 div.sk-text-repr-fallback {display: none;}</style><div id=\"sk-container-id-1\" class=\"sk-top-container\"><div class=\"sk-text-repr-fallback\"><pre>OrdinalEncoder()</pre><b>In a Jupyter environment, please rerun this cell to show the HTML representation or trust the notebook. <br />On GitHub, the HTML representation is unable to render, please try loading this page with nbviewer.org.</b></div><div class=\"sk-container\" hidden><div class=\"sk-item\"><div class=\"sk-estimator sk-toggleable\"><input class=\"sk-toggleable__control sk-hidden--visually\" id=\"sk-estimator-id-1\" type=\"checkbox\" checked><label for=\"sk-estimator-id-1\" class=\"sk-toggleable__label sk-toggleable__label-arrow\">OrdinalEncoder</label><div class=\"sk-toggleable__content\"><pre>OrdinalEncoder()</pre></div></div></div></div></div>"
      ],
      "text/plain": [
       "OrdinalEncoder()"
      ]
     },
     "execution_count": 37,
     "metadata": {},
     "output_type": "execute_result"
    }
   ],
   "source": [
    "encoder = OrdinalEncoder()\n",
    "encoder.fit(train_data[non_numeric])"
   ]
  },
  {
   "cell_type": "code",
   "execution_count": 38,
   "id": "085647d3-26d7-4a1a-a4e7-c8d9b43b12cc",
   "metadata": {},
   "outputs": [],
   "source": [
    "train_data[non_numeric] = pd.DataFrame(encoder.transform(train_data[non_numeric]), columns = train_data[non_numeric].columns)"
   ]
  },
  {
   "cell_type": "markdown",
   "id": "acb1f14d-b462-4c29-bc46-db52d4d06dda",
   "metadata": {},
   "source": [
    "Разделим признаки и целевой признак."
   ]
  },
  {
   "cell_type": "code",
   "execution_count": 39,
   "id": "fff01bbc-2c54-42b7-96ed-ca9000411569",
   "metadata": {
    "tags": []
   },
   "outputs": [],
   "source": [
    "features_train = train_data.drop([\"is_canceled\"], axis=1)\n",
    "target_train = train_data[\"is_canceled\"]"
   ]
  },
  {
   "cell_type": "markdown",
   "id": "df7f9dc8-cbfe-45d8-8238-1028e9bdb813",
   "metadata": {},
   "source": [
    "Масштабируем количественные переменные."
   ]
  },
  {
   "cell_type": "code",
   "execution_count": 40,
   "id": "af9f0152-e48f-42f0-a881-f6a2cd264c6f",
   "metadata": {},
   "outputs": [],
   "source": [
    "scaler = StandardScaler()\n",
    "scaler.fit(train_data[numeric[1:]])\n",
    "\n",
    "features_train[numeric[1:]] = pd.DataFrame(scaler.transform(features_train[numeric[1:]]), columns = features_train[numeric[1:]].columns)"
   ]
  },
  {
   "cell_type": "markdown",
   "id": "c37c8477-38b4-4121-aedf-c47d3b4f824b",
   "metadata": {},
   "source": [
    "Разобьем обучающую выборку на обучающую и валидационную в соотношении 75:25."
   ]
  },
  {
   "cell_type": "code",
   "execution_count": 41,
   "id": "4f4615e7-3c63-48ec-ba15-45959674cbfd",
   "metadata": {},
   "outputs": [],
   "source": [
    "features_train, features_valid, target_train, target_valid = train_test_split(features_train, target_train, test_size=0.25, random_state=12345)"
   ]
  },
  {
   "cell_type": "code",
   "execution_count": 42,
   "id": "f6e2262c-d12e-483c-b2b3-e9536f205246",
   "metadata": {},
   "outputs": [
    {
     "name": "stdout",
     "output_type": "stream",
     "text": [
      "(48797, 22)\n",
      "(16266, 22)\n",
      "(48797,)\n",
      "(16266,)\n"
     ]
    }
   ],
   "source": [
    "print(features_train.shape)\n",
    "print(features_valid.shape)\n",
    "print(target_train.shape)\n",
    "print(target_valid.shape)"
   ]
  },
  {
   "cell_type": "markdown",
   "id": "306d7944-1e92-442f-8e2d-bb81855c5882",
   "metadata": {},
   "source": [
    "Расчет показателей качества модели нам придется совершать часто, напишем отдельную функцию для этого."
   ]
  },
  {
   "cell_type": "code",
   "execution_count": 43,
   "id": "ed1b0950-ea85-438d-9284-4ade565ca687",
   "metadata": {},
   "outputs": [],
   "source": [
    "def model_quality(model, features, target, prediction):\n",
    "    cvs = np.mean(cross_val_score(model, features, target, cv=10))\n",
    "    precision = precision_score(target, prediction)\n",
    "    f1 = f1_score(target, prediction)\n",
    "    roc_auc = roc_auc_score(target, prediction)\n",
    "    print(\"Precision:\", precision)\n",
    "    print(\"F1_score:\", f1)\n",
    "    print(\"Roc_auc:\", roc_auc)\n",
    "    print(\"Cross_val_score:\", cvs)"
   ]
  },
  {
   "cell_type": "markdown",
   "id": "9f26f632-f678-4a46-8889-f0390d247214",
   "metadata": {},
   "source": [
    "Для построение ROC-кривой тоже напишем функцию."
   ]
  },
  {
   "cell_type": "code",
   "execution_count": 44,
   "id": "18e79a0f-ddc5-40da-80be-a9931bea66cb",
   "metadata": {},
   "outputs": [],
   "source": [
    "def draw_graph(model, features, target):\n",
    "    probabilities_one_valid = model.predict_proba(features)[:,1]\n",
    "    fpr, tpr, thresholds = roc_curve(target, probabilities_one_valid)\n",
    "    plt.figure(figsize=(10,7))\n",
    "    plt.plot([0, 1], [0, 1], linestyle=\"--\")\n",
    "    plt.xlim([0, 1])\n",
    "    plt.ylim([0, 1])\n",
    "    plt.plot(fpr, tpr)\n",
    "    plt.xlabel(\"False Positive Rate\")\n",
    "    plt.ylabel(\"True Positive Rate\")\n",
    "    plt.title(\"ROC-кривая\")\n",
    "    plt.show()"
   ]
  },
  {
   "cell_type": "markdown",
   "id": "1496c92e-6098-462a-b6d0-234f19b36155",
   "metadata": {},
   "source": [
    "Обучим дереверо решений и посмотрим на его качество. Казалось бы, что обучать модель стоило бы f1-мерой, где достигается лучшая гармоническая взаимосвязь показателей точности и полноты, но, если подумать, что нам важнее, как можно точно предсказать отменить ли бронь клиент или постараться охватить как можно больше таких клиентов? На мой взгляд, для того чтобы получить больше прибыли лучше использовать полноту в качеству метрики для обучения."
   ]
  },
  {
   "cell_type": "code",
   "execution_count": 45,
   "id": "59df3644-ddd3-4f5d-ba44-eb5837a250bd",
   "metadata": {},
   "outputs": [
    {
     "data": {
      "text/html": [
       "<style>#sk-container-id-2 {color: black;background-color: white;}#sk-container-id-2 pre{padding: 0;}#sk-container-id-2 div.sk-toggleable {background-color: white;}#sk-container-id-2 label.sk-toggleable__label {cursor: pointer;display: block;width: 100%;margin-bottom: 0;padding: 0.3em;box-sizing: border-box;text-align: center;}#sk-container-id-2 label.sk-toggleable__label-arrow:before {content: \"▸\";float: left;margin-right: 0.25em;color: #696969;}#sk-container-id-2 label.sk-toggleable__label-arrow:hover:before {color: black;}#sk-container-id-2 div.sk-estimator:hover label.sk-toggleable__label-arrow:before {color: black;}#sk-container-id-2 div.sk-toggleable__content {max-height: 0;max-width: 0;overflow: hidden;text-align: left;background-color: #f0f8ff;}#sk-container-id-2 div.sk-toggleable__content pre {margin: 0.2em;color: black;border-radius: 0.25em;background-color: #f0f8ff;}#sk-container-id-2 input.sk-toggleable__control:checked~div.sk-toggleable__content {max-height: 200px;max-width: 100%;overflow: auto;}#sk-container-id-2 input.sk-toggleable__control:checked~label.sk-toggleable__label-arrow:before {content: \"▾\";}#sk-container-id-2 div.sk-estimator input.sk-toggleable__control:checked~label.sk-toggleable__label {background-color: #d4ebff;}#sk-container-id-2 div.sk-label input.sk-toggleable__control:checked~label.sk-toggleable__label {background-color: #d4ebff;}#sk-container-id-2 input.sk-hidden--visually {border: 0;clip: rect(1px 1px 1px 1px);clip: rect(1px, 1px, 1px, 1px);height: 1px;margin: -1px;overflow: hidden;padding: 0;position: absolute;width: 1px;}#sk-container-id-2 div.sk-estimator {font-family: monospace;background-color: #f0f8ff;border: 1px dotted black;border-radius: 0.25em;box-sizing: border-box;margin-bottom: 0.5em;}#sk-container-id-2 div.sk-estimator:hover {background-color: #d4ebff;}#sk-container-id-2 div.sk-parallel-item::after {content: \"\";width: 100%;border-bottom: 1px solid gray;flex-grow: 1;}#sk-container-id-2 div.sk-label:hover label.sk-toggleable__label {background-color: #d4ebff;}#sk-container-id-2 div.sk-serial::before {content: \"\";position: absolute;border-left: 1px solid gray;box-sizing: border-box;top: 0;bottom: 0;left: 50%;z-index: 0;}#sk-container-id-2 div.sk-serial {display: flex;flex-direction: column;align-items: center;background-color: white;padding-right: 0.2em;padding-left: 0.2em;position: relative;}#sk-container-id-2 div.sk-item {position: relative;z-index: 1;}#sk-container-id-2 div.sk-parallel {display: flex;align-items: stretch;justify-content: center;background-color: white;position: relative;}#sk-container-id-2 div.sk-item::before, #sk-container-id-2 div.sk-parallel-item::before {content: \"\";position: absolute;border-left: 1px solid gray;box-sizing: border-box;top: 0;bottom: 0;left: 50%;z-index: -1;}#sk-container-id-2 div.sk-parallel-item {display: flex;flex-direction: column;z-index: 1;position: relative;background-color: white;}#sk-container-id-2 div.sk-parallel-item:first-child::after {align-self: flex-end;width: 50%;}#sk-container-id-2 div.sk-parallel-item:last-child::after {align-self: flex-start;width: 50%;}#sk-container-id-2 div.sk-parallel-item:only-child::after {width: 0;}#sk-container-id-2 div.sk-dashed-wrapped {border: 1px dashed gray;margin: 0 0.4em 0.5em 0.4em;box-sizing: border-box;padding-bottom: 0.4em;background-color: white;}#sk-container-id-2 div.sk-label label {font-family: monospace;font-weight: bold;display: inline-block;line-height: 1.2em;}#sk-container-id-2 div.sk-label-container {text-align: center;}#sk-container-id-2 div.sk-container {/* jupyter's `normalize.less` sets `[hidden] { display: none; }` but bootstrap.min.css set `[hidden] { display: none !important; }` so we also need the `!important` here to be able to override the default hidden behavior on the sphinx rendered scikit-learn.org. See: https://github.com/scikit-learn/scikit-learn/issues/21755 */display: inline-block !important;position: relative;}#sk-container-id-2 div.sk-text-repr-fallback {display: none;}</style><div id=\"sk-container-id-2\" class=\"sk-top-container\"><div class=\"sk-text-repr-fallback\"><pre>DecisionTreeClassifier(class_weight=&#x27;balanced&#x27;, max_depth=10,\n",
       "                       random_state=12345)</pre><b>In a Jupyter environment, please rerun this cell to show the HTML representation or trust the notebook. <br />On GitHub, the HTML representation is unable to render, please try loading this page with nbviewer.org.</b></div><div class=\"sk-container\" hidden><div class=\"sk-item\"><div class=\"sk-estimator sk-toggleable\"><input class=\"sk-toggleable__control sk-hidden--visually\" id=\"sk-estimator-id-2\" type=\"checkbox\" checked><label for=\"sk-estimator-id-2\" class=\"sk-toggleable__label sk-toggleable__label-arrow\">DecisionTreeClassifier</label><div class=\"sk-toggleable__content\"><pre>DecisionTreeClassifier(class_weight=&#x27;balanced&#x27;, max_depth=10,\n",
       "                       random_state=12345)</pre></div></div></div></div></div>"
      ],
      "text/plain": [
       "DecisionTreeClassifier(class_weight='balanced', max_depth=10,\n",
       "                       random_state=12345)"
      ]
     },
     "metadata": {},
     "output_type": "display_data"
    },
    {
     "name": "stdout",
     "output_type": "stream",
     "text": [
      "Recall: 0.8293373293373293\n",
      "Precision: 0.7150445018662073\n",
      "F1_score: 0.7679617637989514\n",
      "Roc_auc: 0.8179337718811404\n",
      "Cross_val_score: 0.8130470511834804\n"
     ]
    },
    {
     "data": {
      "image/png": "[encoded data removed]",
      "text/plain": [
       "<Figure size 720x504 with 1 Axes>"
      ]
     },
     "metadata": {
      "needs_background": "light"
     },
     "output_type": "display_data"
    }
   ],
   "source": [
    "tree_recall = 0\n",
    "best_tree = None\n",
    "\n",
    "for depth in range(1, 11, 1):\n",
    "\n",
    "    tree = DecisionTreeClassifier(max_depth=depth, random_state=12345, class_weight=\"balanced\")\n",
    "    tree.fit(features_train, target_train)\n",
    "    predictions = tree.predict(features_valid)\n",
    "    recall = recall_score(target_valid, predictions)\n",
    "\n",
    "    if recall > tree_recall:\n",
    "        tree_recall = recall\n",
    "        best_tree = tree\n",
    "\n",
    "display(best_tree)\n",
    "print(\"Recall:\", tree_recall)\n",
    "model_quality(best_tree, features_valid, target_valid, predictions)\n",
    "draw_graph(best_tree, features_valid, target_valid)"
   ]
  },
  {
   "cell_type": "markdown",
   "id": "19bff6a6-5fc2-47d3-9806-9e00fc41479e",
   "metadata": {},
   "source": [
    "Тоже самое для случайного леса."
   ]
  },
  {
   "cell_type": "code",
   "execution_count": 46,
   "id": "89fb09e8-98c8-4bd6-87fd-b94dc6a6097d",
   "metadata": {
    "tags": []
   },
   "outputs": [
    {
     "data": {
      "text/html": [
       "<style>#sk-container-id-3 {color: black;background-color: white;}#sk-container-id-3 pre{padding: 0;}#sk-container-id-3 div.sk-toggleable {background-color: white;}#sk-container-id-3 label.sk-toggleable__label {cursor: pointer;display: block;width: 100%;margin-bottom: 0;padding: 0.3em;box-sizing: border-box;text-align: center;}#sk-container-id-3 label.sk-toggleable__label-arrow:before {content: \"▸\";float: left;margin-right: 0.25em;color: #696969;}#sk-container-id-3 label.sk-toggleable__label-arrow:hover:before {color: black;}#sk-container-id-3 div.sk-estimator:hover label.sk-toggleable__label-arrow:before {color: black;}#sk-container-id-3 div.sk-toggleable__content {max-height: 0;max-width: 0;overflow: hidden;text-align: left;background-color: #f0f8ff;}#sk-container-id-3 div.sk-toggleable__content pre {margin: 0.2em;color: black;border-radius: 0.25em;background-color: #f0f8ff;}#sk-container-id-3 input.sk-toggleable__control:checked~div.sk-toggleable__content {max-height: 200px;max-width: 100%;overflow: auto;}#sk-container-id-3 input.sk-toggleable__control:checked~label.sk-toggleable__label-arrow:before {content: \"▾\";}#sk-container-id-3 div.sk-estimator input.sk-toggleable__control:checked~label.sk-toggleable__label {background-color: #d4ebff;}#sk-container-id-3 div.sk-label input.sk-toggleable__control:checked~label.sk-toggleable__label {background-color: #d4ebff;}#sk-container-id-3 input.sk-hidden--visually {border: 0;clip: rect(1px 1px 1px 1px);clip: rect(1px, 1px, 1px, 1px);height: 1px;margin: -1px;overflow: hidden;padding: 0;position: absolute;width: 1px;}#sk-container-id-3 div.sk-estimator {font-family: monospace;background-color: #f0f8ff;border: 1px dotted black;border-radius: 0.25em;box-sizing: border-box;margin-bottom: 0.5em;}#sk-container-id-3 div.sk-estimator:hover {background-color: #d4ebff;}#sk-container-id-3 div.sk-parallel-item::after {content: \"\";width: 100%;border-bottom: 1px solid gray;flex-grow: 1;}#sk-container-id-3 div.sk-label:hover label.sk-toggleable__label {background-color: #d4ebff;}#sk-container-id-3 div.sk-serial::before {content: \"\";position: absolute;border-left: 1px solid gray;box-sizing: border-box;top: 0;bottom: 0;left: 50%;z-index: 0;}#sk-container-id-3 div.sk-serial {display: flex;flex-direction: column;align-items: center;background-color: white;padding-right: 0.2em;padding-left: 0.2em;position: relative;}#sk-container-id-3 div.sk-item {position: relative;z-index: 1;}#sk-container-id-3 div.sk-parallel {display: flex;align-items: stretch;justify-content: center;background-color: white;position: relative;}#sk-container-id-3 div.sk-item::before, #sk-container-id-3 div.sk-parallel-item::before {content: \"\";position: absolute;border-left: 1px solid gray;box-sizing: border-box;top: 0;bottom: 0;left: 50%;z-index: -1;}#sk-container-id-3 div.sk-parallel-item {display: flex;flex-direction: column;z-index: 1;position: relative;background-color: white;}#sk-container-id-3 div.sk-parallel-item:first-child::after {align-self: flex-end;width: 50%;}#sk-container-id-3 div.sk-parallel-item:last-child::after {align-self: flex-start;width: 50%;}#sk-container-id-3 div.sk-parallel-item:only-child::after {width: 0;}#sk-container-id-3 div.sk-dashed-wrapped {border: 1px dashed gray;margin: 0 0.4em 0.5em 0.4em;box-sizing: border-box;padding-bottom: 0.4em;background-color: white;}#sk-container-id-3 div.sk-label label {font-family: monospace;font-weight: bold;display: inline-block;line-height: 1.2em;}#sk-container-id-3 div.sk-label-container {text-align: center;}#sk-container-id-3 div.sk-container {/* jupyter's `normalize.less` sets `[hidden] { display: none; }` but bootstrap.min.css set `[hidden] { display: none !important; }` so we also need the `!important` here to be able to override the default hidden behavior on the sphinx rendered scikit-learn.org. See: https://github.com/scikit-learn/scikit-learn/issues/21755 */display: inline-block !important;position: relative;}#sk-container-id-3 div.sk-text-repr-fallback {display: none;}</style><div id=\"sk-container-id-3\" class=\"sk-top-container\"><div class=\"sk-text-repr-fallback\"><pre>RandomForestClassifier(class_weight=&#x27;balanced&#x27;, max_depth=9, n_estimators=10,\n",
       "                       random_state=12345)</pre><b>In a Jupyter environment, please rerun this cell to show the HTML representation or trust the notebook. <br />On GitHub, the HTML representation is unable to render, please try loading this page with nbviewer.org.</b></div><div class=\"sk-container\" hidden><div class=\"sk-item\"><div class=\"sk-estimator sk-toggleable\"><input class=\"sk-toggleable__control sk-hidden--visually\" id=\"sk-estimator-id-3\" type=\"checkbox\" checked><label for=\"sk-estimator-id-3\" class=\"sk-toggleable__label sk-toggleable__label-arrow\">RandomForestClassifier</label><div class=\"sk-toggleable__content\"><pre>RandomForestClassifier(class_weight=&#x27;balanced&#x27;, max_depth=9, n_estimators=10,\n",
       "                       random_state=12345)</pre></div></div></div></div></div>"
      ],
      "text/plain": [
       "RandomForestClassifier(class_weight='balanced', max_depth=9, n_estimators=10,\n",
       "                       random_state=12345)"
      ]
     },
     "metadata": {},
     "output_type": "display_data"
    },
    {
     "name": "stdout",
     "output_type": "stream",
     "text": [
      "Recall: 0.7910422910422911\n",
      "Precision: 0.7851031706089582\n",
      "F1_score: 0.7821509150162949\n",
      "Roc_auc: 0.8271834890255944\n",
      "Cross_val_score: 0.8241127392835084\n"
     ]
    },
    {
     "data": {
      "image/png": "[encoded data removed]",
      "text/plain": [
       "<Figure size 720x504 with 1 Axes>"
      ]
     },
     "metadata": {
      "needs_background": "light"
     },
     "output_type": "display_data"
    }
   ],
   "source": [
    "forest_recall = 0\n",
    "best_forest = None\n",
    "\n",
    "for est in range(10, 51, 10):\n",
    "    for depth in range (1, 11, 1):\n",
    "        \n",
    "        forest = RandomForestClassifier(max_depth=depth, n_estimators=est, random_state=12345, class_weight=\"balanced\")\n",
    "        forest.fit(features_train, target_train)\n",
    "        predictions = forest.predict(features_valid)\n",
    "        recall = recall_score(target_valid, predictions)\n",
    "        \n",
    "        if recall > forest_recall:\n",
    "            forest_recall = recall\n",
    "            best_forest = forest\n",
    "\n",
    "display(best_forest)\n",
    "print(\"Recall:\", forest_recall)\n",
    "model_quality(best_forest, features_valid, target_valid, predictions)\n",
    "draw_graph(best_forest, features_valid, target_valid)"
   ]
  },
  {
   "cell_type": "markdown",
   "id": "6bd8829c-86c3-4ea3-9119-fcb06937f982",
   "metadata": {},
   "source": [
    "Проверим, отличается ли наша модель от той, которая предсказывает просто самый частый целевой признак,"
   ]
  },
  {
   "cell_type": "code",
   "execution_count": 47,
   "id": "9bb7abdb-23d6-443d-a30b-a8ca871a549d",
   "metadata": {},
   "outputs": [
    {
     "data": {
      "text/plain": [
       "0.6313297948644384"
      ]
     },
     "execution_count": 47,
     "metadata": {},
     "output_type": "execute_result"
    }
   ],
   "source": [
    "dummy_model = DummyClassifier(strategy=\"most_frequent\", random_state=12345)\n",
    "dummy_model.fit(features_train, target_train)\n",
    "dummy_model.score(features_train, target_train)"
   ]
  },
  {
   "cell_type": "markdown",
   "id": "7b9aa094-d8c0-4986-b174-e2ca948d380e",
   "metadata": {},
   "source": [
    "Качество модели довольно низкое, что подверждает то, что наши модели хорошо различают целевые признаки."
   ]
  },
  {
   "cell_type": "markdown",
   "id": "bbbd93a1-9378-4abe-ba99-f64bbf06e6a6",
   "metadata": {},
   "source": [
    "Все показатели модели хорошие, наблюдается высокая полноста и точность, кривая ROC сильно за линию диагонали, также кросвалидация показывает, что наши результаты не ошибочные. "
   ]
  },
  {
   "cell_type": "markdown",
   "id": "33a8a195-6c6a-4eec-9e61-13c2dd913092",
   "metadata": {},
   "source": [
    "Что по логистической регрессии?"
   ]
  },
  {
   "cell_type": "markdown",
   "id": "1e0864e1-2da9-466d-a50a-8fa2e202f778",
   "metadata": {},
   "source": [
    "Предудующие датафреймы нам не подходят, поскольку на них мы применили порядкое кодирование, что не работает с логистической регрессией. Заново скопируем подгтовленный нами датафрейм в нашу переменную и проделаем все этапы по аналогии."
   ]
  },
  {
   "cell_type": "code",
   "execution_count": 48,
   "id": "f4ba355a-1989-415c-a7d8-1b8e5ec38de1",
   "metadata": {},
   "outputs": [],
   "source": [
    "train_data = train.copy()\n",
    "train_data = pd.get_dummies(train_data, drop_first=True)"
   ]
  },
  {
   "cell_type": "code",
   "execution_count": 49,
   "id": "3c36893a-f207-4040-94b1-20fd51fb019e",
   "metadata": {
    "tags": []
   },
   "outputs": [],
   "source": [
    "features_train = train_data.drop([\"is_canceled\"], axis=1)\n",
    "target_train = train_data[\"is_canceled\"]"
   ]
  },
  {
   "cell_type": "code",
   "execution_count": 50,
   "id": "e64e7b09-4291-49f0-a744-56f852cfd8ce",
   "metadata": {},
   "outputs": [],
   "source": [
    "features_train[numeric[1:]] = pd.DataFrame(scaler.transform(features_train[numeric[1:]]), columns = features_train[numeric[1:]].columns)"
   ]
  },
  {
   "cell_type": "code",
   "execution_count": 51,
   "id": "1b66759b-0c53-4c7f-9a18-5f3cb220c866",
   "metadata": {},
   "outputs": [],
   "source": [
    "features_train, features_valid, target_train, target_valid = train_test_split(features_train, target_train, test_size=0.25, random_state=12345)"
   ]
  },
  {
   "cell_type": "markdown",
   "id": "9952299d-4371-44a8-a0b3-40c5f2f4ef5f",
   "metadata": {},
   "source": [
    "Обучим логистическую регрессию, рассчитаем показатели качества модели и построим ROC-кривую."
   ]
  },
  {
   "cell_type": "code",
   "execution_count": 52,
   "id": "408d87bd-81e5-424b-b691-7360853467e7",
   "metadata": {},
   "outputs": [
    {
     "name": "stdout",
     "output_type": "stream",
     "text": [
      "Recall: 0.7537462537462537\n",
      "Precision: 0.6895658796648896\n",
      "F1_score: 0.7202290987192745\n",
      "Roc_auc: 0.7775553880817039\n",
      "Cross_val_score: 0.7863649318730432\n"
     ]
    },
    {
     "data": {
      "image/png": "[encoded data removed]",
      "text/plain": [
       "<Figure size 720x504 with 1 Axes>"
      ]
     },
     "metadata": {
      "needs_background": "light"
     },
     "output_type": "display_data"
    }
   ],
   "source": [
    "logistic = LogisticRegression(random_state=12345, class_weight=\"balanced\", solver=\"liblinear\")\n",
    "logistic.fit(features_train, target_train)\n",
    "predictions = logistic.predict(features_valid)\n",
    "logistic_recall = recall_score(target_valid, predictions)\n",
    "print(\"Recall:\", logistic_recall)\n",
    "model_quality(logistic, features_valid, target_valid, predictions)\n",
    "draw_graph(logistic, features_valid, target_valid)"
   ]
  },
  {
   "cell_type": "markdown",
   "id": "2705fd5e-a7b7-4521-aa64-b46a5f1891b5",
   "metadata": {},
   "source": [
    "С точки зрения охвата полноты лучше всего подходит дерево решений, затем случайный лес и логистическая регрессия. Посмотрим, как дела обстоят на практике."
   ]
  },
  {
   "cell_type": "markdown",
   "id": "f2224a2e-f5b6-4fa5-bbc3-2268f6391c70",
   "metadata": {},
   "source": [
    "Напишем функцию для расчета прибыли отеля после внедрения депозитной системы."
   ]
  },
  {
   "cell_type": "code",
   "execution_count": 53,
   "id": "3a025d92-cc20-41d1-8a6f-60eff87e0e34",
   "metadata": {
    "tags": []
   },
   "outputs": [],
   "source": [
    "def set_profit(row):\n",
    "    if row[\"is_canceled\"] == 0: # если фактически клиент не отменял бронь мы получаем прибыль\n",
    "        return ((room_prices[row[\"reserved_room_type\"]][0] \n",
    "                * season_coeff[row[\"arrival_date_month\"]] \n",
    "                * row[\"total_nights\"]) \n",
    "                - (room_prices[row[\"reserved_room_type\"]][1] \n",
    "                * (1 + row[\"total_nights\"] // 2)))\n",
    "    if row[\"predictions\"] == 0 and row[\"is_canceled\"] == 1: # если фактически была отмена брони, а наша модель это не предвидела, мы получаем убыток\n",
    "        return ((room_prices[row[\"reserved_room_type\"]][0] \n",
    "                * season_coeff[row[\"arrival_date_month\"]]) \n",
    "                + room_prices[row[\"reserved_room_type\"]][1]) *-1\n",
    "    if row[\"predictions\"] == 1 and row[\"is_canceled\"] == 1: # если фактически мы получили отмену и модель это предугадала, то мы просим оставлять депозит в 80%\n",
    "        return ((((room_prices[row[\"reserved_room_type\"]][0] \n",
    "                * season_coeff[row[\"arrival_date_month\"]]) \n",
    "                + room_prices[row[\"reserved_room_type\"]][1]) *.8) \n",
    "                - ((room_prices[row[\"reserved_room_type\"]][0] \n",
    "                * season_coeff[row[\"arrival_date_month\"]]) \n",
    "                + room_prices[row[\"reserved_room_type\"]][1]))   "
   ]
  },
  {
   "cell_type": "markdown",
   "id": "51b6abd3-1d55-412a-bbb2-541ee35babaa",
   "metadata": {},
   "source": [
    "Подготовим тестовую выборку для предсказания."
   ]
  },
  {
   "cell_type": "code",
   "execution_count": 54,
   "id": "12875cc1-99d4-4ff0-bb4e-5b218e071495",
   "metadata": {},
   "outputs": [],
   "source": [
    "test_data[non_numeric] = pd.DataFrame(encoder.transform(test_data[non_numeric]), columns = test_data[non_numeric].columns)"
   ]
  },
  {
   "cell_type": "code",
   "execution_count": 55,
   "id": "268fa9ec-78d1-4ee3-ae7c-6ec2de63192c",
   "metadata": {
    "tags": []
   },
   "outputs": [],
   "source": [
    "features_test = test_data.drop([\"is_canceled\"], axis=1)\n",
    "target_test = test_data[\"is_canceled\"]"
   ]
  },
  {
   "cell_type": "code",
   "execution_count": 56,
   "id": "483f39fd-da77-4b12-8828-98d653294c22",
   "metadata": {},
   "outputs": [],
   "source": [
    "features_test[numeric[1:]] = pd.DataFrame(scaler.transform(features_test[numeric[1:]]), columns = features_test[numeric[1:]].columns)"
   ]
  },
  {
   "cell_type": "markdown",
   "id": "97f41334-b246-49d5-8f7b-b9eb0263510f",
   "metadata": {},
   "source": [
    "Проверим уже обученные лучшие модели на тестовой выборке."
   ]
  },
  {
   "cell_type": "code",
   "execution_count": 57,
   "id": "4895feb7-3ef2-431a-8e1c-114dc9637175",
   "metadata": {},
   "outputs": [],
   "source": [
    "predictions = best_forest.predict(features_test)"
   ]
  },
  {
   "cell_type": "markdown",
   "id": "4e27eb32-d88c-4957-9dd7-931c1ad50317",
   "metadata": {},
   "source": [
    "Расчитаем на тестовой выборке показатели качества модели, построим ROC-кривую и рассчитаем прибыль отеля."
   ]
  },
  {
   "cell_type": "code",
   "execution_count": 58,
   "id": "b0b80f0c-bf03-46a1-991f-56f7173a180b",
   "metadata": {},
   "outputs": [
    {
     "name": "stdout",
     "output_type": "stream",
     "text": [
      "Recall: 0.6427547770700637\n",
      "Precision: 0.7144880077882998\n",
      "F1_score: 0.6767257638626932\n",
      "Roc_auc: 0.7398427375720839\n",
      "Cross_val_score: 0.6298068914231423\n"
     ]
    },
    {
     "data": {
      "image/png": "[encoded data removed]",
      "text/plain": [
       "<Figure size 720x504 with 1 Axes>"
      ]
     },
     "metadata": {
      "needs_background": "light"
     },
     "output_type": "display_data"
    },
    {
     "name": "stdout",
     "output_type": "stream",
     "text": [
      "Прибыль на тестовой выборке после внедрения ML, руб.: 41984326.0\n",
      "Убыток на тестовой выборке после внедрения ML, руб.: -8526734.0\n",
      "Прирост прибыли после внедрения модели случайного леса, руб.: 9473736.0\n"
     ]
    }
   ],
   "source": [
    "forest_recall = recall_score(target_test, predictions)\n",
    "print(\"Recall:\", forest_recall)\n",
    "model_quality(best_forest, features_test, target_test, predictions)\n",
    "draw_graph(best_forest, features_test, target_test)\n",
    "test[\"predictions\"] = pd.Series(predictions)\n",
    "profit_forest = test.apply(set_profit, axis=1)\n",
    "print(\"Прибыль на тестовой выборке после внедрения ML, руб.:\", profit_forest.sum())\n",
    "print(\"Убыток на тестовой выборке после внедрения ML, руб.:\", profit_forest[profit_forest<0].sum())\n",
    "print(\"Прирост прибыли после внедрения модели случайного леса, руб.:\",  profit_forest.sum() - profit_before.sum())"
   ]
  },
  {
   "cell_type": "markdown",
   "id": "c49601e7-20a6-429d-938b-a0aaaeb3fe6a",
   "metadata": {},
   "source": [
    "Посмотрим как поведет себя дерево решений с тестовой выборкой."
   ]
  },
  {
   "cell_type": "code",
   "execution_count": 59,
   "id": "2dfc0d48-3e30-4793-a370-d284386defad",
   "metadata": {},
   "outputs": [
    {
     "name": "stdout",
     "output_type": "stream",
     "text": [
      "Recall: 0.6615445859872612\n",
      "Precision: 0.6466651101253016\n",
      "F1_score: 0.6540202290526979\n",
      "Roc_auc: 0.7160273099273615\n",
      "Cross_val_score: 0.622481430397085\n"
     ]
    },
    {
     "data": {
      "image/png": "[encoded data removed]",
      "text/plain": [
       "<Figure size 720x504 with 1 Axes>"
      ]
     },
     "metadata": {
      "needs_background": "light"
     },
     "output_type": "display_data"
    },
    {
     "name": "stdout",
     "output_type": "stream",
     "text": [
      "Прибыль на тестовой выборке после внедрения ML, руб.: 42185118.0\n",
      "Убыток на тестовой выборке после внедрения ML, руб.: -8325942.0\n",
      "Прирост прибыли после внедрения модели дерево решений, руб.: 9674528.0\n"
     ]
    }
   ],
   "source": [
    "predictions = best_tree.predict(features_test)\n",
    "tree_recall = recall_score(target_test, predictions)\n",
    "print(\"Recall:\", tree_recall)\n",
    "model_quality(best_tree, features_test, target_test, predictions)\n",
    "draw_graph(best_tree, features_test, target_test)\n",
    "test[\"predictions\"] = pd.Series(predictions)\n",
    "profit_tree = test.apply(set_profit, axis=1)\n",
    "print(\"Прибыль на тестовой выборке после внедрения ML, руб.:\", profit_tree.sum())\n",
    "print(\"Убыток на тестовой выборке после внедрения ML, руб.:\", profit_tree[profit_tree<0].sum())\n",
    "print(\"Прирост прибыли после внедрения модели дерево решений, руб.:\",  profit_tree.sum() - profit_before.sum())"
   ]
  },
  {
   "cell_type": "markdown",
   "id": "8606a9f4-d613-4878-abf3-c965ac4040ee",
   "metadata": {},
   "source": [
    "Проверим логистическую регрессию на тестовой выборке."
   ]
  },
  {
   "cell_type": "code",
   "execution_count": 60,
   "id": "bf754866-6df0-4c47-9f03-126f7e306194",
   "metadata": {},
   "outputs": [],
   "source": [
    "test_data = test.copy()"
   ]
  },
  {
   "cell_type": "code",
   "execution_count": 61,
   "id": "1cde3816-be69-49ce-8de2-c27513a9f4e5",
   "metadata": {},
   "outputs": [],
   "source": [
    "train_data = pd.get_dummies(train_data, drop_first=True)\n",
    "test_data = pd.get_dummies(test_data, drop_first=True)"
   ]
  },
  {
   "cell_type": "markdown",
   "id": "f5eabdf1-229e-4604-bab3-f8f00c890223",
   "metadata": {},
   "source": [
    "Поскольку мы делаем прямое кодирование категориальных переменных, то может быть так, что количество столбцов в тестовой выборке будет меньше, чем на обучающей выборке, что может привести к ошибке, исправим это."
   ]
  },
  {
   "cell_type": "code",
   "execution_count": 62,
   "id": "d03348c2-6e35-4bba-9b9c-514f4a2ac9bb",
   "metadata": {},
   "outputs": [
    {
     "name": "stdout",
     "output_type": "stream",
     "text": [
      "(65063, 56)\n",
      "(32343, 56)\n"
     ]
    }
   ],
   "source": [
    "for col in train_data.columns: # все столбцы, которых нет в тестовой выборке заполним нулями.\n",
    "    if col not in test_data.columns:\n",
    "        test_data[col] = 0\n",
    "        \n",
    "test_data = test_data[train_data.columns]\n",
    "\n",
    "print(train_data.shape)\n",
    "print(test_data.shape)"
   ]
  },
  {
   "cell_type": "code",
   "execution_count": 63,
   "id": "a617b938-6a35-4a47-9b9c-989715635ca7",
   "metadata": {
    "tags": []
   },
   "outputs": [],
   "source": [
    "features_test = test_data.drop([\"is_canceled\"], axis=1)\n",
    "target_test = test_data[\"is_canceled\"]"
   ]
  },
  {
   "cell_type": "code",
   "execution_count": 64,
   "id": "bd1c06bc-ffd1-4c68-9379-2326f0c63591",
   "metadata": {},
   "outputs": [],
   "source": [
    "features_test[numeric[1:]] = pd.DataFrame(scaler.transform(features_test[numeric[1:]]), columns = features_test[numeric[1:]].columns)"
   ]
  },
  {
   "cell_type": "code",
   "execution_count": 65,
   "id": "7cb154b9-f3db-42f4-b1a7-cfb351807fb5",
   "metadata": {},
   "outputs": [
    {
     "name": "stdout",
     "output_type": "stream",
     "text": [
      "Recall: 0.6444267515923567\n",
      "Precision: 0.6947639484978541\n",
      "F1_score: 0.6686493184634449\n",
      "Roc_auc: 0.7323382304693826\n",
      "Cross_val_score: 0.6581000268591348\n"
     ]
    },
    {
     "data": {
      "image/png": "[encoded data removed]",
      "text/plain": [
       "<Figure size 720x504 with 1 Axes>"
      ]
     },
     "metadata": {
      "needs_background": "light"
     },
     "output_type": "display_data"
    },
    {
     "name": "stdout",
     "output_type": "stream",
     "text": [
      "Прибыль на тестовой выборке после внедрения ML, руб.: 42037462.0\n",
      "Убыток на тестовой выборке после внедрения ML, руб.: -8473598.0\n",
      "Прирост прибыли после внедрения модели дерево решений, руб.: 9526872.0\n"
     ]
    }
   ],
   "source": [
    "predictions = logistic.predict(features_test)\n",
    "logistic_recall = recall_score(target_test, predictions)\n",
    "\n",
    "print(\"Recall:\", logistic_recall)\n",
    "\n",
    "model_quality(logistic, features_test, target_test, predictions)\n",
    "draw_graph(logistic, features_test, target_test)\n",
    "\n",
    "test[\"predictions\"] = pd.Series(predictions)\n",
    "profit_logistic = test.apply(set_profit, axis=1)\n",
    "\n",
    "print(\"Прибыль на тестовой выборке после внедрения ML, руб.:\", profit_logistic.sum())\n",
    "print(\"Убыток на тестовой выборке после внедрения ML, руб.:\", profit_logistic[profit_logistic<0].sum())\n",
    "print(\"Прирост прибыли после внедрения модели дерево решений, руб.:\",  profit_logistic.sum() - profit_before.sum())"
   ]
  },
  {
   "cell_type": "markdown",
   "id": "adb993b3-c9b0-471b-96a6-03069b4dfe49",
   "metadata": {},
   "source": [
    "Посмотрим на распределение точности, полноты, прибыли и убытка в зависимости от порога на примере логистической регрессии."
   ]
  },
  {
   "cell_type": "code",
   "execution_count": 66,
   "id": "95409905-e139-41dc-b051-d51e6506558f",
   "metadata": {},
   "outputs": [],
   "source": [
    "probabilities_valid = logistic.predict_proba(features_test)\n",
    "probabilities_one_valid = probabilities_valid[:, 1]"
   ]
  },
  {
   "cell_type": "code",
   "execution_count": 67,
   "id": "09efabd0-c519-4925-b2eb-3e95d9bba32d",
   "metadata": {},
   "outputs": [
    {
     "name": "stdout",
     "output_type": "stream",
     "text": [
      "| Порог = 0.00 | Точность = 0.388 | Полнота = 1.000 | Прибыль = 46910966.0 | Убыток = -3600094.0 |\n",
      "| Порог = 0.03 | Точность = 0.417 | Полнота = 0.998 | Прибыль = 46884966.0 | Убыток = -3626094.0 |\n",
      "| Порог = 0.06 | Точность = 0.430 | Полнота = 0.994 | Прибыль = 46825102.0 | Убыток = -3685958.0 |\n",
      "| Порог = 0.09 | Точность = 0.446 | Полнота = 0.985 | Прибыль = 46705494.0 | Убыток = -3805566.0 |\n",
      "| Порог = 0.12 | Точность = 0.463 | Полнота = 0.972 | Прибыль = 46534182.0 | Убыток = -3976878.0 |\n",
      "| Порог = 0.15 | Точность = 0.480 | Полнота = 0.956 | Прибыль = 46319078.0 | Убыток = -4191982.0 |\n",
      "| Порог = 0.18 | Точность = 0.499 | Полнота = 0.938 | Прибыль = 46074270.0 | Убыток = -4436790.0 |\n",
      "| Порог = 0.21 | Точность = 0.517 | Полнота = 0.916 | Прибыль = 45774270.0 | Убыток = -4736790.0 |\n",
      "| Порог = 0.24 | Точность = 0.535 | Полнота = 0.894 | Прибыль = 45473718.0 | Убыток = -5037342.0 |\n",
      "| Порог = 0.27 | Точность = 0.553 | Полнота = 0.870 | Прибыль = 45132622.0 | Убыток = -5378438.0 |\n",
      "| Порог = 0.30 | Точность = 0.571 | Полнота = 0.845 | Прибыль = 44783238.0 | Убыток = -5727822.0 |\n",
      "| Порог = 0.33 | Точность = 0.590 | Полнота = 0.818 | Прибыль = 44402830.0 | Убыток = -6108230.0 |\n",
      "| Порог = 0.36 | Точность = 0.608 | Полнота = 0.789 | Прибыль = 44007678.0 | Убыток = -6503382.0 |\n",
      "| Порог = 0.39 | Точность = 0.627 | Полнота = 0.762 | Прибыль = 43640182.0 | Убыток = -6870878.0 |\n",
      "| Порог = 0.42 | Точность = 0.646 | Полнота = 0.731 | Прибыль = 43221054.0 | Убыток = -7290006.0 |\n",
      "| Порог = 0.45 | Точность = 0.667 | Полнота = 0.703 | Прибыль = 42840166.0 | Убыток = -7670894.0 |\n",
      "| Порог = 0.48 | Точность = 0.683 | Полнота = 0.664 | Прибыль = 42291526.0 | Убыток = -8219534.0 |\n",
      "| Порог = 0.51 | Точность = 0.703 | Полнота = 0.634 | Прибыль = 41896054.0 | Убыток = -8615006.0 |\n",
      "| Порог = 0.54 | Точность = 0.722 | Полнота = 0.604 | Прибыль = 41482854.0 | Убыток = -9028206.0 |\n",
      "| Порог = 0.57 | Точность = 0.746 | Полнота = 0.570 | Прибыль = 41028214.0 | Убыток = -9482846.0 |\n",
      "| Порог = 0.60 | Точность = 0.766 | Полнота = 0.541 | Прибыль = 40622726.0 | Убыток = -9888334.0 |\n",
      "| Порог = 0.63 | Точность = 0.788 | Полнота = 0.508 | Прибыль = 40140566.0 | Убыток = -10370494.0 |\n",
      "| Порог = 0.66 | Точность = 0.814 | Полнота = 0.478 | Прибыль = 39731622.0 | Убыток = -10779438.0 |\n",
      "| Порог = 0.69 | Точность = 0.837 | Полнота = 0.447 | Прибыль = 39290862.0 | Убыток = -11220198.0 |\n",
      "| Порог = 0.72 | Точность = 0.854 | Полнота = 0.418 | Прибыль = 38897926.0 | Убыток = -11613134.0 |\n",
      "| Порог = 0.75 | Точность = 0.875 | Полнота = 0.376 | Прибыль = 38314550.0 | Убыток = -12196510.0 |\n",
      "| Порог = 0.78 | Точность = 0.893 | Полнота = 0.332 | Прибыль = 37665918.0 | Убыток = -12845142.0 |\n",
      "| Порог = 0.81 | Точность = 0.910 | Полнота = 0.295 | Прибыль = 37157078.0 | Убыток = -13353982.0 |\n",
      "| Порог = 0.84 | Точность = 0.927 | Полнота = 0.251 | Прибыль = 36526638.0 | Убыток = -13984422.0 |\n",
      "| Порог = 0.87 | Точность = 0.944 | Полнота = 0.205 | Прибыль = 35831406.0 | Убыток = -14679654.0 |\n",
      "| Порог = 0.90 | Точность = 0.945 | Полнота = 0.117 | Прибыль = 34423006.0 | Убыток = -16088054.0 |\n",
      "| Порог = 0.93 | Точность = 0.946 | Полнота = 0.041 | Прибыль = 33196526.0 | Убыток = -17314534.0 |\n",
      "| Порог = 0.96 | Точность = 0.969 | Полнота = 0.015 | Прибыль = 32756270.0 | Убыток = -17754790.0 |\n",
      "| Порог = 0.99 | Точность = 0.500 | Полнота = 0.000 | Прибыль = 32511870.0 | Убыток = -17999190.0 |\n"
     ]
    }
   ],
   "source": [
    "for threshold in np.arange(0, 1, 0.03):\n",
    "    predictions = (probabilities_one_valid > threshold)*1\n",
    "    precision = precision_score(target_test, predictions)\n",
    "    recall = recall_score(target_test, predictions)\n",
    "    test[\"predictions\"] = pd.Series(predictions)\n",
    "    profit_logistic = test.apply(set_profit, axis=1)\n",
    "    print(f\"| Порог = {threshold:.2f} | Точность = {precision:.3f} | Полнота = {recall:.3f} | Прибыль = {profit_logistic.sum()} | Убыток = {profit_logistic[profit_logistic<0].sum()} |\")"
   ]
  },
  {
   "cell_type": "markdown",
   "id": "f627b70f-0a94-4798-b447-9709270e2b7c",
   "metadata": {},
   "source": [
    "Для привлечения клиентов лучше всего внедрить умную систему депозитов на основе ML, которая будет предсказывать кто может потенциально отменить бронь и у таких клиентов запрашивать депозит."
   ]
  },
  {
   "cell_type": "markdown",
   "id": "7bf3c3cd-cb99-44d6-8eeb-279b30a66d5a",
   "metadata": {},
   "source": [
    "**Выводы:**\n",
    "\n",
    "Все модели показали значительный прирост прибыли, за год модели могут окупиться десятки раз, учитывая расходы в размере 400 тыс. на разработку самой модели.\n",
    "\n",
    "Модели обучены и готовы, какую выбрать модель? Зависит от цели:\n",
    "- максимизация прибыли - дерево решений;\n",
    "- высокая точность - случайный лес;\n",
    "- высокая скорость - логистическая регрессия.\n",
    "\n",
    "Однако, можно комбинировать точность, полноту со скоросью: для этого можно задать нужную точность, полноту используя пороги и выбрать самую быструю модель(в нашем случае логистическую регрессию), быстрота имеет значение, особенно, если нужно в режиме онлайн нужно предсказать отмену брони клиентом."
   ]
  },
  {
   "cell_type": "markdown",
   "id": "88d11408-2b61-4b98-9e97-0fd243cf0b7a",
   "metadata": {},
   "source": [
    "[В начало](#intro)"
   ]
  },
  {
   "cell_type": "markdown",
   "id": "d0f741d3-e97d-42f8-86b6-be46f702792b",
   "metadata": {},
   "source": [
    "## Портрет «ненадёжного» клиента"
   ]
  },
  {
   "cell_type": "markdown",
   "id": "92e24254-ecca-49c0-a15f-5ef2f2b42c84",
   "metadata": {},
   "source": [
    "Рассмотрим некоторые зависимости и составим портрет клиента, который потенциально может отменить бронь."
   ]
  },
  {
   "cell_type": "markdown",
   "id": "181f9b1f-e234-4256-8e1c-4efaa13c95de",
   "metadata": {},
   "source": [
    "Объединим датафреймы, чтобы на основе общих данных сделать более точне выводы."
   ]
  },
  {
   "cell_type": "code",
   "execution_count": 68,
   "id": "c52a93bd-6092-4e1a-a43d-f271943d1861",
   "metadata": {},
   "outputs": [],
   "source": [
    "data = pd.concat([train]+[test])"
   ]
  },
  {
   "cell_type": "markdown",
   "id": "a4cf17a4-752c-43c6-977d-cda6fc65ced4",
   "metadata": {},
   "source": [
    "Посмотрим на зависимости количественных данных с отменой брони."
   ]
  },
  {
   "cell_type": "code",
   "execution_count": 69,
   "id": "01f2fb4e-9c45-4c99-b299-61dbb7256cf7",
   "metadata": {},
   "outputs": [
    {
     "data": {
      "image/png": "[encoded data removed]",
      "text/plain": [
       "<Figure size 864x432 with 2 Axes>"
      ]
     },
     "metadata": {
      "needs_background": "light"
     },
     "output_type": "display_data"
    }
   ],
   "source": [
    "corr_matrix = data.corr()[[\"is_canceled\"]].sort_values(\"is_canceled\",ascending=False)\n",
    "\n",
    "plt.figure(figsize = (12, 6))\n",
    "sns.heatmap(corr_matrix,\n",
    "            vmin=-1, \n",
    "            vmax=1,\n",
    "            annot=True,\n",
    "            cmap=\"Oranges\")\n",
    "plt.title(\"Матрица корреляции\")\n",
    "plt.show()"
   ]
  },
  {
   "cell_type": "markdown",
   "id": "6b877277-8445-4df3-a405-df776c5f0e23",
   "metadata": {},
   "source": [
    "Топ-3 зависимостей:\n",
    "- наибольшая зависимость между \"lead_time\" (количество дней между датой бронирования и датой прибытия) и отменой брони, то есть чем заранее бронируется номер, тем выше вероятность отмены, планы могут изменится у любого человека.\n",
    "- если клиент раньше отменял брони, то вероятность отмены в очереденой раз повышается.\n",
    "- чем меньше специальных пометок, тем выше вероятность отмены, однако про какие специальные пометки не говорится.\n",
    "\n",
    "На мой взгляд также стоит обращать внимание на days_in_waiting_list(сколько дней заказ ожидал подтверждения), полагаю, чем больше заказ ожидает подтвеждения тем выше вероятность отмены."
   ]
  },
  {
   "cell_type": "markdown",
   "id": "36fb05cd-9589-4123-a5e7-1c9677fe607f",
   "metadata": {},
   "source": [
    "Посмотрим также завимости категориальных данных с отменой брони."
   ]
  },
  {
   "cell_type": "code",
   "execution_count": 70,
   "id": "9aba7d05-b922-4c39-8044-8a226ba3ef6b",
   "metadata": {},
   "outputs": [
    {
     "data": {
      "image/png": "[encoded data removed]",
      "text/plain": [
       "<Figure size 936x432 with 1 Axes>"
      ]
     },
     "metadata": {
      "needs_background": "light"
     },
     "output_type": "display_data"
    },
    {
     "data": {
      "image/png": "[encoded data removed]",
      "text/plain": [
       "<Figure size 936x432 with 1 Axes>"
      ]
     },
     "metadata": {
      "needs_background": "light"
     },
     "output_type": "display_data"
    },
    {
     "data": {
      "image/png": "[encoded data removed]",
      "text/plain": [
       "<Figure size 936x432 with 1 Axes>"
      ]
     },
     "metadata": {
      "needs_background": "light"
     },
     "output_type": "display_data"
    },
    {
     "data": {
      "image/png": "[encoded data removed]",
      "text/plain": [
       "<Figure size 936x432 with 1 Axes>"
      ]
     },
     "metadata": {
      "needs_background": "light"
     },
     "output_type": "display_data"
    },
    {
     "data": {
      "image/png": "[encoded data removed]",
      "text/plain": [
       "<Figure size 936x432 with 1 Axes>"
      ]
     },
     "metadata": {
      "needs_background": "light"
     },
     "output_type": "display_data"
    },
    {
     "data": {
      "image/png": "[encoded data removed]",
      "text/plain": [
       "<Figure size 936x432 with 1 Axes>"
      ]
     },
     "metadata": {
      "needs_background": "light"
     },
     "output_type": "display_data"
    }
   ],
   "source": [
    "for col in data.select_dtypes(include=\"object\").columns:\n",
    "    plt.subplots(1, figsize=(13, 6))\n",
    "    sns.histplot(data=data, \n",
    "                 x=col, \n",
    "                 hue=\"is_canceled\", \n",
    "                 bins=len(data[col].unique()), \n",
    "                 palette=\"Set2\", \n",
    "                 element=\"step\")\n",
    "    plt.show()"
   ]
  },
  {
   "cell_type": "markdown",
   "id": "ad73e00a-ae31-41ca-8271-e0a8d8ca74b8",
   "metadata": {},
   "source": [
    "**Выводы:**\n",
    "\n",
    "Месяц бронирования, тип питания,  не влияют на отмену брони, число подверждений и отмен равнозначно подают и растут по месяцам и типам питания. \n",
    "\n",
    "На отмену бронирования влияют такие параметры как:\n",
    "- количество дней между датой бронирования и датой прибытия, с ростом которого растет вероятность отмены брони;\n",
    "- наличие предыдующих отмен брони повышает вероятность отмены в очереденой раз;\n",
    "- отсутствие специальных пометок, повышает вероятность отмены;\n",
    "- длительный срок ожидания заказа клиента;\n",
    "- канал дистрибуции равный TA/TO;\n",
    "- премиальность номера;\n",
    "- тип-заказчика равный Transient;\n",
    "- страна прибытия, если это Португалия."
   ]
  },
  {
   "cell_type": "markdown",
   "id": "16d04ab9-0349-4128-85a1-723c96acbed1",
   "metadata": {},
   "source": [
    "[В начало](#intro)"
   ]
  },
  {
   "cell_type": "markdown",
   "id": "38a7876b-9e00-4a10-9f8b-3d2306dd78df",
   "metadata": {
    "tags": []
   },
   "source": [
    "## Общие выводы"
   ]
  },
  {
   "cell_type": "markdown",
   "id": "eac6d2d8-bfad-4ac2-9610-c70c98db63d6",
   "metadata": {},
   "source": [
    "**Предобработка данных**\n",
    "\n",
    "По итогам предобработки данных обнаржены и устранены не унифицированные значения категориальных переменных и другие аномалии и артефакты, ненужные данные. Обнаружено много дубликатов, которые решено было оставить как есть.\n",
    "\n",
    "**Исследовательский анализ данных (EDA):**\n",
    "\n",
    "- дисбаланс классов на лицо, больше подтверждений брони, чем отмен;\n",
    "- наиболее популярный месяц для бронивания - май;\n",
    "- чаще всего клиенты прибывают в отель из Португалии;\n",
    "- больше всего клиенты предпочитают тип питания - только завтраки и самые дорогие номера;\n",
    "- самый популярный тип клиента Transient - индивидуальные заезды;\n",
    "- lead_time (количество дней между датой бронирования и датой прибытия) с длинным хвостом, в данных есть выбросы, однако удалять эти данные пока не будем;\n",
    "- начало и конец года менее популярны для путешествий, поэтому бронирований у отеля в эти недели намного меньше;\n",
    "- первые и последние числа месяца также менее популярны для бронирования;\n",
    "- большинство захватывают от 1 до 3 будних и от 0 до 2 выходных дней с общим сроком до 5 дней;\n",
    "- как правило, бронирование включает двух взрослых постояльцев, стоит подметить, что отели могут не принимают одиноких мужчин, но принять женщин;\n",
    "- взрослые постояльцы, как правило, бронируют отель без детей в возрасте от 3 до 14 лет и младенцев;\n",
    "- большинство в отеле впервые, что логично, мало кто регулярно отдыхает в одном и том же отеле;\n",
    "- клиенты, как правило, не отменяют брони, но и есть те, кто отменяют, их доля значительно меньше;\n",
    "- клиенты не вносят изменения в условия брони, доля клиентов запросивщих изменения изначальных условий бронирования значительно ниже;\n",
    "- большая часть клиентов не попадают в лист ожидания, но есть и те, кто по 100-150 дней ожидают свое бронирование, что очень странно;\n",
    "- как правило парковочное место не запрашивается;\n",
    "- количество специальных отметок, в основном, варьируется от 0 до 2.\n",
    "\n",
    "**Результаты моделей**\n",
    "\n",
    "Все модели показали достойные результаты, во всех случаях затраты на построение модели окупились. Самую высокую прибыль дала модель на основе дерева решений, поскольку прибыль наша целевая метрика мы предлагаем использовать именно эту модель, она не самая точная и не самая быстрая. Однако, можно комбинировать точность, полноту со скоросью: для этого можно задать нужную точность, полноту используя пороги и выбрать самую быструю модель(в нашем случае логистическую регрессию), быстрота имеет значение, особенно, если нужно в режиме онлайн нужно предсказать отмену брони клиентом.\n",
    "\n",
    "**Портрет «ненадёжного» клиента**\n",
    "\n",
    "Ненадежным считается клиент, который:\n",
    "- выбрал дату заселений сильное заранее, планы могут изменится у любого человека и вероятность отмены брони от этого только растет;\n",
    "- если клиент раньше отменял бронь, то вероятность отмены в очереденой раз повышается;\n",
    "- чем меньше специальных пометок, тем выше вероятность отмены;\n",
    "- длительный срок ожидания заказа клиента также может стать причиной отмены;\n",
    "- имеет канал дистрибуции TA/TO;\n",
    "- выбирает самый премиальный номер;\n",
    "- бронирует по собственной инициативе с оплатой из собственного кармана;\n",
    "- прибывает из Португалии."
   ]
  },
  {
   "cell_type": "markdown",
   "id": "fd0750e6-c63b-49f6-a064-00503c7c82df",
   "metadata": {},
   "source": [
    "[В начало](#intro)"
   ]
  }
 ],
 "metadata": {
  "kernelspec": {
   "display_name": "Python 3 (ipykernel)",
   "language": "python",
   "name": "python3"
  },
  "language_info": {
   "codemirror_mode": {
    "name": "ipython",
    "version": 3
   },
   "file_extension": ".py",
   "mimetype": "text/x-python",
   "name": "python",
   "nbconvert_exporter": "python",
   "pygments_lexer": "ipython3",
   "version": "3.11.5"
  },
  "toc": {
   "base_numbering": 1,
   "nav_menu": {},
   "number_sections": true,
   "sideBar": true,
   "skip_h1_title": true,
   "title_cell": "Содержание",
   "title_sidebar": "Contents",
   "toc_cell": true,
   "toc_position": {},
   "toc_section_display": true,
   "toc_window_display": true
  }
 },
 "nbformat": 4,
 "nbformat_minor": 5
}
